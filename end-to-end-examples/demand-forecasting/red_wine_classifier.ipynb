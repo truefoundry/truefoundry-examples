{
  "cells": [
    {
      "cell_type": "markdown",
      "metadata": {
        "id": "2c6nhZIxSvl2"
      },
      "source": [
        "# 🛠 Setup"
      ]
    },
    {
      "cell_type": "code",
      "source": [
        "%cd /content"
      ],
      "metadata": {
        "id": "4chEYTocv6CZ"
      },
      "execution_count": null,
      "outputs": []
    },
    {
      "cell_type": "code",
      "execution_count": null,
      "metadata": {
        "id": "bFz2KwkdG-mw"
      },
      "outputs": [],
      "source": [
        "!git clone -b automation-script https://github.com/truefoundry/truefoundry-examples.git"
      ]
    },
    {
      "cell_type": "code",
      "execution_count": null,
      "metadata": {
        "id": "rnalU7uLTgmr"
      },
      "outputs": [],
      "source": [
        "pip install -U \"servicefoundry==0.6.6\""
      ]
    },
    {
      "cell_type": "code",
      "execution_count": null,
      "metadata": {
        "id": "NN133xapzkt7"
      },
      "outputs": [],
      "source": [
        "import logging\n",
        "[logging.root.removeHandler(h) for h in logging.root.handlers]\n",
        "logging.basicConfig(level=logging.INFO, format='%(asctime)s [%(name)s] %(levelname)-8s %(message)s')"
      ]
    },
    {
      "cell_type": "code",
      "execution_count": null,
      "metadata": {
        "id": "FmmB5HHfXvES"
      },
      "outputs": [],
      "source": [
        "!sfy login"
      ]
    },
    {
      "cell_type": "markdown",
      "metadata": {
        "id": "EXQVmwcESbjg"
      },
      "source": [
        "# ⚡Training Model"
      ]
    },
    {
      "cell_type": "code",
      "source": [
        "# Copy Workspace FQN from https://app.truefoundry.com/workspaces\n",
        "# Copy API Key from https://app.truefoundry.com/settings\n",
        "from getpass import getpass\n",
        "\n",
        "WORKSPACE = input(\"Please enter your Workspace FQN, (https://app.truefoundry.com/workspaces):-\")\n",
        "TFY_API_KEY = getpass(\"Please enter your API Key, (https://app.truefoundry.com/settings):-\")"
      ],
      "metadata": {
        "id": "zm_quXI9uSEQ"
      },
      "execution_count": null,
      "outputs": []
    },
    {
      "cell_type": "code",
      "execution_count": null,
      "metadata": {
        "id": "L5PQOvJlSrk5"
      },
      "outputs": [],
      "source": [
        "%cd /content/truefoundry-examples/end-to-end-examples/red-wine-classification/train"
      ]
    },
    {
      "cell_type": "code",
      "execution_count": 7,
      "metadata": {
        "id": "d4zY2j5MSDXH",
        "colab": {
          "base_uri": "https://localhost:8080/"
        },
        "outputId": "20f8ee64-0de5-4ba9-9cca-d8f363403ab2"
      },
      "outputs": [
        {
          "output_type": "stream",
          "name": "stdout",
          "text": [
            "\u001b[34mimport\u001b[39;49;00m \u001b[04m\u001b[36mos\u001b[39;49;00m\u001b[37m\u001b[39;49;00m\n",
            "\u001b[34mimport\u001b[39;49;00m \u001b[04m\u001b[36mtime\u001b[39;49;00m\u001b[37m\u001b[39;49;00m\n",
            "\u001b[34mimport\u001b[39;49;00m \u001b[04m\u001b[36mmlfoundry\u001b[39;49;00m\u001b[37m\u001b[39;49;00m\n",
            "\u001b[34mfrom\u001b[39;49;00m \u001b[04m\u001b[36mdatetime\u001b[39;49;00m \u001b[34mimport\u001b[39;49;00m datetime\u001b[37m\u001b[39;49;00m\n",
            "\u001b[34mfrom\u001b[39;49;00m \u001b[04m\u001b[36mtrain_model\u001b[39;49;00m \u001b[34mimport\u001b[39;49;00m train_model\u001b[37m\u001b[39;49;00m\n",
            "\u001b[34mfrom\u001b[39;49;00m \u001b[04m\u001b[36msklearn\u001b[39;49;00m\u001b[04m\u001b[36m.\u001b[39;49;00m\u001b[04m\u001b[36mmetrics\u001b[39;49;00m \u001b[34mimport\u001b[39;49;00m accuracy_score, f1_score\u001b[37m\u001b[39;49;00m\n",
            "\u001b[34mfrom\u001b[39;49;00m \u001b[04m\u001b[36mdataset\u001b[39;49;00m \u001b[34mimport\u001b[39;49;00m get_initial_data\u001b[37m\u001b[39;49;00m\n",
            "\u001b[37m\u001b[39;49;00m\n",
            "s = time.time()\u001b[37m\u001b[39;49;00m\n",
            "\u001b[37m\u001b[39;49;00m\n",
            "\u001b[37m# You can bring data from your own sources\u001b[39;49;00m\u001b[37m\u001b[39;49;00m\n",
            "X_train, X_test, y_train, y_test = get_initial_data(test_size=\u001b[34m0.1\u001b[39;49;00m, random_state=\u001b[34m42\u001b[39;49;00m)\u001b[37m\u001b[39;49;00m\n",
            "\u001b[37m\u001b[39;49;00m\n",
            "model, metadata = train_model(X_train, y_train, X_test, y_test)\u001b[37m\u001b[39;49;00m\n",
            "e = time.time()\u001b[37m\u001b[39;49;00m\n",
            "\u001b[37m\u001b[39;49;00m\n",
            "\u001b[36mprint\u001b[39;49;00m(\u001b[33mf\u001b[39;49;00m\u001b[33m\"\u001b[39;49;00m\u001b[33m################### Time taken to log models \u001b[39;49;00m\u001b[33m{\u001b[39;49;00me-s\u001b[33m}\u001b[39;49;00m\u001b[33m \u001b[39;49;00m\u001b[33m\"\u001b[39;49;00m)\u001b[37m\u001b[39;49;00m\n",
            "\u001b[37m\u001b[39;49;00m\n",
            "features = [{\u001b[33m\"\u001b[39;49;00m\u001b[33mname\u001b[39;49;00m\u001b[33m\"\u001b[39;49;00m: column, \u001b[33m\"\u001b[39;49;00m\u001b[33mtype\u001b[39;49;00m\u001b[33m\"\u001b[39;49;00m: \u001b[33m\"\u001b[39;49;00m\u001b[33mfloat\u001b[39;49;00m\u001b[33m\"\u001b[39;49;00m} \u001b[34mfor\u001b[39;49;00m column \u001b[35min\u001b[39;49;00m X_train.columns]\u001b[37m\u001b[39;49;00m\n",
            "schema = {\u001b[33m\"\u001b[39;49;00m\u001b[33mfeatures\u001b[39;49;00m\u001b[33m\"\u001b[39;49;00m: features, \u001b[33m\"\u001b[39;49;00m\u001b[33mprediction\u001b[39;49;00m\u001b[33m\"\u001b[39;49;00m: \u001b[33m\"\u001b[39;49;00m\u001b[33mcategorical\u001b[39;49;00m\u001b[33m\"\u001b[39;49;00m}\u001b[37m\u001b[39;49;00m\n",
            "\u001b[36mprint\u001b[39;49;00m(\u001b[33mf\u001b[39;49;00m\u001b[33m\"\u001b[39;49;00m\u001b[33mSchema: \u001b[39;49;00m\u001b[33m{\u001b[39;49;00mschema\u001b[33m}\u001b[39;49;00m\u001b[33m\"\u001b[39;49;00m)\u001b[37m\u001b[39;49;00m\n",
            "\u001b[37m\u001b[39;49;00m\n",
            "y_pred_train = model.predict(X_train)\u001b[37m\u001b[39;49;00m\n",
            "y_pred_test = model.predict(X_test)\u001b[37m\u001b[39;49;00m\n",
            "\u001b[37m\u001b[39;49;00m\n",
            "\u001b[37m# logging the data for experiment tracking\u001b[39;49;00m\u001b[37m\u001b[39;49;00m\n",
            "\u001b[37m# You can push the model to your choice of storage or model registry.\u001b[39;49;00m\u001b[37m\u001b[39;49;00m\n",
            "run = mlfoundry.get_client().create_run(project_name=\u001b[33m\"\u001b[39;49;00m\u001b[33mred-wine-quality-demo\u001b[39;49;00m\u001b[33m\"\u001b[39;49;00m, run_name=\u001b[33mf\u001b[39;49;00m\u001b[33m\"\u001b[39;49;00m\u001b[33mtrain-\u001b[39;49;00m\u001b[33m{\u001b[39;49;00mdatetime.now().strftime(\u001b[33m'\u001b[39;49;00m\u001b[33m%\u001b[39;49;00m\u001b[33mm-\u001b[39;49;00m\u001b[33m%d\u001b[39;49;00m\u001b[33m-\u001b[39;49;00m\u001b[33m%\u001b[39;49;00m\u001b[33mY\u001b[39;49;00m\u001b[33m'\u001b[39;49;00m)\u001b[33m}\u001b[39;49;00m\u001b[33m\"\u001b[39;49;00m)\u001b[37m\u001b[39;49;00m\n",
            "run.log_params(model.get_params())\u001b[37m\u001b[39;49;00m\n",
            "run.log_metrics({\u001b[37m\u001b[39;49;00m\n",
            "    \u001b[33m'\u001b[39;49;00m\u001b[33mtrain/accuracy_score\u001b[39;49;00m\u001b[33m'\u001b[39;49;00m: accuracy_score(y_train, y_pred_train),\u001b[37m\u001b[39;49;00m\n",
            "    \u001b[33m'\u001b[39;49;00m\u001b[33mtrain/f1\u001b[39;49;00m\u001b[33m'\u001b[39;49;00m: f1_score(y_train, y_pred_train, average=\u001b[33m'\u001b[39;49;00m\u001b[33mweighted\u001b[39;49;00m\u001b[33m'\u001b[39;49;00m),\u001b[37m\u001b[39;49;00m\n",
            "    \u001b[33m'\u001b[39;49;00m\u001b[33mtest/accuracy_score\u001b[39;49;00m\u001b[33m'\u001b[39;49;00m: accuracy_score(y_test, y_pred_test),\u001b[37m\u001b[39;49;00m\n",
            "    \u001b[33m'\u001b[39;49;00m\u001b[33mtest/f1\u001b[39;49;00m\u001b[33m'\u001b[39;49;00m: f1_score(y_test, y_pred_test, average=\u001b[33m'\u001b[39;49;00m\u001b[33mweighted\u001b[39;49;00m\u001b[33m'\u001b[39;49;00m),\u001b[37m\u001b[39;49;00m\n",
            "})\u001b[37m\u001b[39;49;00m\n",
            "\u001b[37m\u001b[39;49;00m\n",
            "run.log_dataset(\u001b[37m\u001b[39;49;00m\n",
            "    dataset_name=\u001b[33m'\u001b[39;49;00m\u001b[33mtrain\u001b[39;49;00m\u001b[33m'\u001b[39;49;00m,\u001b[37m\u001b[39;49;00m\n",
            "    features=X_train,\u001b[37m\u001b[39;49;00m\n",
            "    predictions=y_pred_train,\u001b[37m\u001b[39;49;00m\n",
            "    actuals=y_train,\u001b[37m\u001b[39;49;00m\n",
            ")\u001b[37m\u001b[39;49;00m\n",
            "run.log_dataset(\u001b[37m\u001b[39;49;00m\n",
            "    dataset_name=\u001b[33m'\u001b[39;49;00m\u001b[33mtest\u001b[39;49;00m\u001b[33m'\u001b[39;49;00m,\u001b[37m\u001b[39;49;00m\n",
            "    features=X_test,\u001b[37m\u001b[39;49;00m\n",
            "    predictions=y_pred_test,\u001b[37m\u001b[39;49;00m\n",
            "    actuals=y_test,\u001b[37m\u001b[39;49;00m\n",
            ")\u001b[37m\u001b[39;49;00m\n",
            "\u001b[37m\u001b[39;49;00m\n",
            "model_version = run.log_model(\u001b[37m\u001b[39;49;00m\n",
            "    name=\u001b[33m\"\u001b[39;49;00m\u001b[33mred-wine-quality-classifier\u001b[39;49;00m\u001b[33m\"\u001b[39;49;00m,\u001b[37m\u001b[39;49;00m\n",
            "    model=model,\u001b[37m\u001b[39;49;00m\n",
            "    framework=\u001b[33m\"\u001b[39;49;00m\u001b[33msklearn\u001b[39;49;00m\u001b[33m\"\u001b[39;49;00m,\u001b[37m\u001b[39;49;00m\n",
            "    description=\u001b[33m\"\u001b[39;49;00m\u001b[33mmodel trained for red wine quality classification\u001b[39;49;00m\u001b[33m\"\u001b[39;49;00m,\u001b[37m\u001b[39;49;00m\n",
            "    metadata=metadata,\u001b[37m\u001b[39;49;00m\n",
            "    model_schema=schema,\u001b[37m\u001b[39;49;00m\n",
            "    custom_metrics=[{\u001b[33m\"\u001b[39;49;00m\u001b[33mname\u001b[39;49;00m\u001b[33m\"\u001b[39;49;00m: \u001b[33m\"\u001b[39;49;00m\u001b[33mlog_loss\u001b[39;49;00m\u001b[33m\"\u001b[39;49;00m, \u001b[33m\"\u001b[39;49;00m\u001b[33mtype\u001b[39;49;00m\u001b[33m\"\u001b[39;49;00m: \u001b[33m\"\u001b[39;49;00m\u001b[33mmetric\u001b[39;49;00m\u001b[33m\"\u001b[39;49;00m, \u001b[33m\"\u001b[39;49;00m\u001b[33mvalue_type\u001b[39;49;00m\u001b[33m\"\u001b[39;49;00m: \u001b[33m\"\u001b[39;49;00m\u001b[33mfloat\u001b[39;49;00m\u001b[33m\"\u001b[39;49;00m}],\u001b[37m\u001b[39;49;00m\n",
            ")\u001b[37m\u001b[39;49;00m\n",
            "\u001b[37m\u001b[39;49;00m\n",
            "\u001b[36mprint\u001b[39;49;00m(\u001b[33mf\u001b[39;49;00m\u001b[33m\"\u001b[39;49;00m\u001b[33mLogged model: \u001b[39;49;00m\u001b[33m{\u001b[39;49;00mmodel_version.fqn\u001b[33m}\u001b[39;49;00m\u001b[33m\"\u001b[39;49;00m)\u001b[37m\u001b[39;49;00m\n"
          ]
        }
      ],
      "source": [
        "!pygmentize train.py"
      ]
    },
    {
      "cell_type": "code",
      "execution_count": null,
      "metadata": {
        "id": "nx6JRvBgdEUB"
      },
      "outputs": [],
      "source": [
        "import argparse\n",
        "import logging\n",
        "\n",
        "from servicefoundry import Build, Job, PythonBuild, Resources\n",
        "\n",
        "logging.basicConfig(level=logging.INFO)\n",
        "\n",
        "# servicefoundry uses this specification to automatically create a Dockerfile and build an image,\n",
        "python_build = PythonBuild(\n",
        "    python_version=\"3.9\",\n",
        "    command=\"python train.py\",\n",
        ")\n",
        "env = {\n",
        "    \"TFY_API_KEY\": TFY_API_KEY,\n",
        "}\n",
        "job = Job(\n",
        "    name=\"red-wine-train\",\n",
        "    image=Build(build_spec=python_build),\n",
        "    env=env,\n",
        "    resources=Resources(\n",
        "        cpu_request=1, cpu_limit=1.5, memory_request=1000, memory_limit=1500\n",
        "    ),\n",
        ")\n",
        "output_train = job.deploy(workspace_fqn=WORKSPACE)"
      ]
    },
    {
      "cell_type": "code",
      "source": [
        "# In order to trigger the above job, go to the Dashboard --> Deployments --> red-wine-train job --> 'Run Job'   OR   Run below script to trigger a job\n",
        "\n",
        "from servicefoundry.internal.experimental import trigger_job\n",
        "\n",
        "# Job Deployment FQN can be found at Dashboard --> Deployments --> red-wine-train job --> FQN\n",
        "JOB_DEPLOYMENT_FQN = output_train.fqn\n",
        "\n",
        "trigger_job(deployment_fqn=JOB_DEPLOYMENT_FQN, command=\"python train.py\")"
      ],
      "metadata": {
        "id": "aTOGyLz9p4ud"
      },
      "execution_count": null,
      "outputs": []
    },
    {
      "cell_type": "markdown",
      "metadata": {
        "id": "Pk4fgjByGgrr"
      },
      "source": [
        "# ☁ Deploying FastAPI Prediction Service"
      ]
    },
    {
      "cell_type": "code",
      "source": [
        "# Copy the FQN of the latest version of the model from Experiments Tracking tab of TrueFoundry --> project name (red-wine-quality-demo by default) --> Models --> FQN\n",
        "MODEL_VERSION_FQN = input(\"Please enter your Model Version FQN:-\")"
      ],
      "metadata": {
        "id": "LsTsMeF3vaRV"
      },
      "execution_count": null,
      "outputs": []
    },
    {
      "cell_type": "code",
      "source": [
        "%cd /content/truefoundry-examples/end-to-end-examples/red-wine-classification/infer_realtime"
      ],
      "metadata": {
        "id": "7ox_63Zjbuds"
      },
      "execution_count": null,
      "outputs": []
    },
    {
      "cell_type": "code",
      "source": [
        "!pygmentize infer_realtime.py"
      ],
      "metadata": {
        "id": "OaUa8PzNb3O8",
        "colab": {
          "base_uri": "https://localhost:8080/"
        },
        "outputId": "6a0dc828-46a3-49c5-a1fc-d4f926981977"
      },
      "execution_count": 9,
      "outputs": [
        {
          "output_type": "stream",
          "name": "stdout",
          "text": [
            "\u001b[34mimport\u001b[39;49;00m \u001b[04m\u001b[36mos\u001b[39;49;00m\u001b[37m\u001b[39;49;00m\n",
            "\u001b[34mimport\u001b[39;49;00m \u001b[04m\u001b[36mtime\u001b[39;49;00m\u001b[37m\u001b[39;49;00m\n",
            "\u001b[34mimport\u001b[39;49;00m \u001b[04m\u001b[36muuid\u001b[39;49;00m\u001b[37m\u001b[39;49;00m\n",
            "\u001b[34mfrom\u001b[39;49;00m \u001b[04m\u001b[36mtyping\u001b[39;49;00m \u001b[34mimport\u001b[39;49;00m List\u001b[37m\u001b[39;49;00m\n",
            "\u001b[37m\u001b[39;49;00m\n",
            "\u001b[34mimport\u001b[39;49;00m \u001b[04m\u001b[36mmlfoundry\u001b[39;49;00m \u001b[34mas\u001b[39;49;00m \u001b[04m\u001b[36mmlf\u001b[39;49;00m\u001b[37m\u001b[39;49;00m\n",
            "\u001b[34mimport\u001b[39;49;00m \u001b[04m\u001b[36mpandas\u001b[39;49;00m \u001b[34mas\u001b[39;49;00m \u001b[04m\u001b[36mpd\u001b[39;49;00m\u001b[37m\u001b[39;49;00m\n",
            "\u001b[34mfrom\u001b[39;49;00m \u001b[04m\u001b[36mfastapi\u001b[39;49;00m \u001b[34mimport\u001b[39;49;00m FastAPI\u001b[37m\u001b[39;49;00m\n",
            "\u001b[34mfrom\u001b[39;49;00m \u001b[04m\u001b[36mpydantic\u001b[39;49;00m \u001b[34mimport\u001b[39;49;00m BaseModel, Field\u001b[37m\u001b[39;49;00m\n",
            "\u001b[37m\u001b[39;49;00m\n",
            "\u001b[37m# fetching the model object from the model vesion fqn\u001b[39;49;00m\u001b[37m\u001b[39;49;00m\n",
            "MODEL_VERSION_FQN = os.getenv(\u001b[33m\"\u001b[39;49;00m\u001b[33mMLF_MODEL_VERSION_FQN\u001b[39;49;00m\u001b[33m\"\u001b[39;49;00m)\u001b[37m\u001b[39;49;00m\n",
            "client = mlf.get_client()\u001b[37m\u001b[39;49;00m\n",
            "model_version = client.get_model(MODEL_VERSION_FQN)\u001b[37m\u001b[39;49;00m\n",
            "model = model_version.load()\u001b[37m\u001b[39;49;00m\n",
            "\u001b[37m\u001b[39;49;00m\n",
            "app = FastAPI(root_path=os.getenv(\u001b[33m\"\u001b[39;49;00m\u001b[33mTFY_SERVICE_ROOT_PATH\u001b[39;49;00m\u001b[33m\"\u001b[39;49;00m), docs_url=\u001b[33m\"\u001b[39;49;00m\u001b[33m/\u001b[39;49;00m\u001b[33m\"\u001b[39;49;00m)\u001b[37m\u001b[39;49;00m\n",
            "\u001b[37m\u001b[39;49;00m\n",
            "\u001b[37m# creating the inference request object\u001b[39;49;00m\u001b[37m\u001b[39;49;00m\n",
            "\u001b[34mclass\u001b[39;49;00m \u001b[04m\u001b[32mWinePredictionRequest\u001b[39;49;00m(BaseModel):\u001b[37m\u001b[39;49;00m\n",
            "    data_id: \u001b[36mstr\u001b[39;49;00m = Field(default_factory=\u001b[34mlambda\u001b[39;49;00m: uuid.uuid4().hex)\u001b[37m\u001b[39;49;00m\n",
            "    fixed_acidity: \u001b[36mfloat\u001b[39;49;00m\u001b[37m\u001b[39;49;00m\n",
            "    volatile_acidity: \u001b[36mfloat\u001b[39;49;00m\u001b[37m\u001b[39;49;00m\n",
            "    citric_acid: \u001b[36mfloat\u001b[39;49;00m\u001b[37m\u001b[39;49;00m\n",
            "    residual_sugar: \u001b[36mfloat\u001b[39;49;00m\u001b[37m\u001b[39;49;00m\n",
            "    chlorides: \u001b[36mfloat\u001b[39;49;00m\u001b[37m\u001b[39;49;00m\n",
            "    free_sulfur_dioxide: \u001b[36mfloat\u001b[39;49;00m\u001b[37m\u001b[39;49;00m\n",
            "    total_sulfur_dioxide: \u001b[36mfloat\u001b[39;49;00m\u001b[37m\u001b[39;49;00m\n",
            "    density: \u001b[36mfloat\u001b[39;49;00m\u001b[37m\u001b[39;49;00m\n",
            "    pH: \u001b[36mfloat\u001b[39;49;00m\u001b[37m\u001b[39;49;00m\n",
            "    sulphates: \u001b[36mfloat\u001b[39;49;00m\u001b[37m\u001b[39;49;00m\n",
            "    alcohol: \u001b[36mfloat\u001b[39;49;00m\u001b[37m\u001b[39;49;00m\n",
            "\u001b[37m\u001b[39;49;00m\n",
            "    \u001b[34mclass\u001b[39;49;00m \u001b[04m\u001b[32mConfig\u001b[39;49;00m:\u001b[37m\u001b[39;49;00m\n",
            "        alias_generator = \u001b[34mlambda\u001b[39;49;00m string: string.replace(\u001b[33m\"\u001b[39;49;00m\u001b[33m_\u001b[39;49;00m\u001b[33m\"\u001b[39;49;00m, \u001b[33m\"\u001b[39;49;00m\u001b[33m \u001b[39;49;00m\u001b[33m\"\u001b[39;49;00m)\u001b[37m\u001b[39;49;00m\n",
            "        allow_population_by_field_name = \u001b[34mTrue\u001b[39;49;00m\u001b[37m\u001b[39;49;00m\n",
            "\u001b[37m\u001b[39;49;00m\n",
            "\u001b[37m\u001b[39;49;00m\n",
            "\u001b[90m@app\u001b[39;49;00m.post(\u001b[33m\"\u001b[39;49;00m\u001b[33m/predict\u001b[39;49;00m\u001b[33m\"\u001b[39;49;00m)\u001b[37m\u001b[39;49;00m\n",
            "\u001b[34mdef\u001b[39;49;00m \u001b[32mpredict\u001b[39;49;00m(inference_requests: List[WinePredictionRequest]):\u001b[37m\u001b[39;49;00m\n",
            "    s = time.time()\u001b[37m\u001b[39;49;00m\n",
            "    predictions = []\u001b[37m\u001b[39;49;00m\n",
            "    prediction_logs = []\u001b[37m\u001b[39;49;00m\n",
            "    data_ids_list = [request.data_id \u001b[34mfor\u001b[39;49;00m request \u001b[35min\u001b[39;49;00m inference_requests]\u001b[37m\u001b[39;49;00m\n",
            "    features_list = [\u001b[37m\u001b[39;49;00m\n",
            "        request.dict(exclude={\u001b[33m\"\u001b[39;49;00m\u001b[33mdata_id\u001b[39;49;00m\u001b[33m\"\u001b[39;49;00m}, by_alias=\u001b[34mTrue\u001b[39;49;00m)\u001b[37m\u001b[39;49;00m\n",
            "        \u001b[34mfor\u001b[39;49;00m request \u001b[35min\u001b[39;49;00m inference_requests\u001b[37m\u001b[39;49;00m\n",
            "    ]\u001b[37m\u001b[39;49;00m\n",
            "    prediction_values = [value \u001b[34mfor\u001b[39;49;00m value \u001b[35min\u001b[39;49;00m model.predict(pd.DataFrame(features_list))]\u001b[37m\u001b[39;49;00m\n",
            "    prediction_probabilities_list = [\u001b[37m\u001b[39;49;00m\n",
            "        {pred: \u001b[36mfloat\u001b[39;49;00m(prob) \u001b[34mfor\u001b[39;49;00m pred, prob \u001b[35min\u001b[39;49;00m \u001b[36mzip\u001b[39;49;00m(model.classes_, prediction_prob)}\u001b[37m\u001b[39;49;00m\n",
            "        \u001b[34mfor\u001b[39;49;00m prediction_prob \u001b[35min\u001b[39;49;00m model.predict_proba(pd.DataFrame(features_list))\u001b[37m\u001b[39;49;00m\n",
            "    ]\u001b[37m\u001b[39;49;00m\n",
            "\u001b[37m\u001b[39;49;00m\n",
            "    \u001b[34mfor\u001b[39;49;00m data_id, features, value, probabilities \u001b[35min\u001b[39;49;00m \u001b[36mzip\u001b[39;49;00m(\u001b[37m\u001b[39;49;00m\n",
            "        data_ids_list, features_list, prediction_values, prediction_probabilities_list\u001b[37m\u001b[39;49;00m\n",
            "    ):\u001b[37m\u001b[39;49;00m\n",
            "        predictions.append(\u001b[37m\u001b[39;49;00m\n",
            "            {\u001b[37m\u001b[39;49;00m\n",
            "                \u001b[33m\"\u001b[39;49;00m\u001b[33mdata_id\u001b[39;49;00m\u001b[33m\"\u001b[39;49;00m: data_id,\u001b[37m\u001b[39;49;00m\n",
            "                \u001b[33m\"\u001b[39;49;00m\u001b[33mmodel_version_fqn\u001b[39;49;00m\u001b[33m\"\u001b[39;49;00m: MODEL_VERSION_FQN,\u001b[37m\u001b[39;49;00m\n",
            "                \u001b[33m\"\u001b[39;49;00m\u001b[33mvalue\u001b[39;49;00m\u001b[33m\"\u001b[39;49;00m: value,\u001b[37m\u001b[39;49;00m\n",
            "                \u001b[33m\"\u001b[39;49;00m\u001b[33mprobabilities\u001b[39;49;00m\u001b[33m\"\u001b[39;49;00m: probabilities,\u001b[37m\u001b[39;49;00m\n",
            "            }\u001b[37m\u001b[39;49;00m\n",
            "        )\u001b[37m\u001b[39;49;00m\n",
            "        prediction_logs.append(\u001b[37m\u001b[39;49;00m\n",
            "            mlf.Prediction(\u001b[37m\u001b[39;49;00m\n",
            "                data_id=data_id,\u001b[37m\u001b[39;49;00m\n",
            "                features=features,\u001b[37m\u001b[39;49;00m\n",
            "                prediction_data={\u001b[37m\u001b[39;49;00m\n",
            "                    \u001b[33m\"\u001b[39;49;00m\u001b[33mvalue\u001b[39;49;00m\u001b[33m\"\u001b[39;49;00m: value,\u001b[37m\u001b[39;49;00m\n",
            "                    \u001b[33m\"\u001b[39;49;00m\u001b[33mprobabilities\u001b[39;49;00m\u001b[33m\"\u001b[39;49;00m: probabilities,\u001b[37m\u001b[39;49;00m\n",
            "                },\u001b[37m\u001b[39;49;00m\n",
            "            )\u001b[37m\u001b[39;49;00m\n",
            "        )\u001b[37m\u001b[39;49;00m\n",
            "    e = time.time()\u001b[37m\u001b[39;49;00m\n",
            "    client.log_predictions(\u001b[37m\u001b[39;49;00m\n",
            "        model_version_fqn=MODEL_VERSION_FQN, predictions=prediction_logs\u001b[37m\u001b[39;49;00m\n",
            "    )\u001b[37m\u001b[39;49;00m\n",
            "    \u001b[36mprint\u001b[39;49;00m(\u001b[33mf\u001b[39;49;00m\u001b[33m\"\u001b[39;49;00m\u001b[33mMade \u001b[39;49;00m\u001b[33m{\u001b[39;49;00m\u001b[36mlen\u001b[39;49;00m(prediction_logs)\u001b[33m}\u001b[39;49;00m\u001b[33m predictions in \u001b[39;49;00m\u001b[33m{\u001b[39;49;00me-s\u001b[33m}\u001b[39;49;00m\u001b[33m seconds\u001b[39;49;00m\u001b[33m\"\u001b[39;49;00m)\u001b[37m\u001b[39;49;00m\n",
            "    \u001b[34mreturn\u001b[39;49;00m predictions\u001b[37m\u001b[39;49;00m\n"
          ]
        }
      ]
    },
    {
      "cell_type": "code",
      "source": [
        "import argparse\n",
        "import logging\n",
        "\n",
        "from servicefoundry import Build, PythonBuild, Resources, Service\n",
        "\n",
        "logging.basicConfig(level=logging.INFO)\n",
        "\n",
        "# creating a service object and defining all the configurations\n",
        "service = Service(\n",
        "    name=\"red-wine-fastapi\",\n",
        "    image=Build(\n",
        "        build_spec=PythonBuild(\n",
        "            command=\"uvicorn infer_realtime:app --port 4000 --host 0.0.0.0\",\n",
        "            python_version=\"3.9\",\n",
        "        ),\n",
        "    ),\n",
        "    env={\n",
        "        \"TFY_API_KEY\": TFY_API_KEY,\n",
        "        \"MLF_MODEL_VERSION_FQN\": MODEL_VERSION_FQN,\n",
        "    },\n",
        "    ports=[{\"port\": 4000}],\n",
        "    resources=Resources(\n",
        "        cpu_request=0.5, cpu_limit=1.5, memory_limit=2500, memory_request=1500\n",
        "    ),\n",
        ")\n",
        "output_fastapi = service.deploy(workspace_fqn=WORKSPACE)"
      ],
      "metadata": {
        "id": "AbGckhaQb-nl"
      },
      "execution_count": null,
      "outputs": []
    },
    {
      "cell_type": "code",
      "source": [
        "# Set this as the FastAPI Endpoint of the deployed service\n",
        "INFERENCE_SERVER_URL = input(\"Enter the FastAPI Endpoint of the deployed service:-\")"
      ],
      "metadata": {
        "id": "AavdPyGSogBe"
      },
      "execution_count": null,
      "outputs": []
    },
    {
      "cell_type": "markdown",
      "source": [
        "Click on the dashboard link in the terminal to open the service deployment page with FastAPI Endpoint"
      ],
      "metadata": {
        "id": "JAtWo5Jxh8wy"
      }
    },
    {
      "cell_type": "markdown",
      "source": [
        "# 👨‍💻 Testing Deployed Model"
      ],
      "metadata": {
        "id": "s9RX9iM5g1UJ"
      }
    },
    {
      "cell_type": "code",
      "source": [
        "import requests\n",
        "from urllib.parse import urljoin\n",
        "\n",
        "features_list = [\n",
        "    {\n",
        "        \"data id\": \"string\", \"fixed acidity\": 7.5, \"volatile acidity\": 0.42,\n",
        "        \"citric acid\": 0.32, \"residual sugar\": 2.7, \"chlorides\": 0.067,\n",
        "        \"free sulfur dioxide\": 7.0, \"total sulfur dioxide\": 25.0, \n",
        "        \"density\": 0.99628, \"pH\": 3.24, \"sulphates\": 0.44, \"alcohol\": 10.4\n",
        "    }\n",
        "]\n",
        "\n",
        "data = requests.post(url=urljoin(INFERENCE_SERVER_URL, './predict'), json=features_list).json()\n",
        "print(data)"
      ],
      "metadata": {
        "id": "da1FIDXfhWso"
      },
      "execution_count": null,
      "outputs": []
    },
    {
      "cell_type": "markdown",
      "metadata": {
        "id": "u75vYyd1wxWC"
      },
      "source": [
        "# ⚡Running Batch Inference"
      ]
    },
    {
      "cell_type": "code",
      "source": [
        "%cd /content/truefoundry-examples/end-to-end-examples/red-wine-classification/infer_batch"
      ],
      "metadata": {
        "id": "mIKuTlNbwxWV"
      },
      "execution_count": null,
      "outputs": []
    },
    {
      "cell_type": "code",
      "source": [
        "!pygmentize infer_batch.py"
      ],
      "metadata": {
        "id": "eVU2BsINwxWW",
        "colab": {
          "base_uri": "https://localhost:8080/"
        },
        "outputId": "72782493-1531-44ad-e6c3-4daae0a38170"
      },
      "execution_count": 11,
      "outputs": [
        {
          "output_type": "stream",
          "name": "stdout",
          "text": [
            "\u001b[34mimport\u001b[39;49;00m \u001b[04m\u001b[36mos\u001b[39;49;00m\u001b[37m\u001b[39;49;00m\n",
            "\u001b[34mimport\u001b[39;49;00m \u001b[04m\u001b[36mrandom\u001b[39;49;00m\u001b[37m\u001b[39;49;00m\n",
            "\u001b[34mimport\u001b[39;49;00m \u001b[04m\u001b[36mtime\u001b[39;49;00m\u001b[37m\u001b[39;49;00m\n",
            "\u001b[34mfrom\u001b[39;49;00m \u001b[04m\u001b[36murllib\u001b[39;49;00m\u001b[04m\u001b[36m.\u001b[39;49;00m\u001b[04m\u001b[36mparse\u001b[39;49;00m \u001b[34mimport\u001b[39;49;00m urljoin\u001b[37m\u001b[39;49;00m\n",
            "\u001b[37m\u001b[39;49;00m\n",
            "\u001b[34mimport\u001b[39;49;00m \u001b[04m\u001b[36mmlfoundry\u001b[39;49;00m \u001b[34mas\u001b[39;49;00m \u001b[04m\u001b[36mmlf\u001b[39;49;00m\u001b[37m\u001b[39;49;00m\n",
            "\u001b[34mimport\u001b[39;49;00m \u001b[04m\u001b[36mpandas\u001b[39;49;00m \u001b[34mas\u001b[39;49;00m \u001b[04m\u001b[36mpd\u001b[39;49;00m\u001b[37m\u001b[39;49;00m\n",
            "\u001b[34mimport\u001b[39;49;00m \u001b[04m\u001b[36mrequests\u001b[39;49;00m\u001b[37m\u001b[39;49;00m\n",
            "\u001b[37m\u001b[39;49;00m\n",
            "client = mlf.get_client()\u001b[37m\u001b[39;49;00m\n",
            "request_url = os.getenv(\u001b[33m\"\u001b[39;49;00m\u001b[33mINFERENCE_SERVER_URL\u001b[39;49;00m\u001b[33m\"\u001b[39;49;00m)\u001b[37m\u001b[39;49;00m\n",
            "\u001b[37m\u001b[39;49;00m\n",
            "DATASET_URL = \u001b[33m\"\u001b[39;49;00m\u001b[33mhttps://archive.ics.uci.edu/ml/machine-learning-databases/wine-quality/winequality-red.csv\u001b[39;49;00m\u001b[33m\"\u001b[39;49;00m\u001b[37m\u001b[39;49;00m\n",
            "\u001b[37m\u001b[39;49;00m\n",
            "\u001b[37m\u001b[39;49;00m\n",
            "\u001b[37m# generate random input samples from the original dataset\u001b[39;49;00m\u001b[37m\u001b[39;49;00m\n",
            "\u001b[34mdef\u001b[39;49;00m \u001b[32mget_input_data\u001b[39;49;00m(num_samples=random.randint(\u001b[34m15\u001b[39;49;00m, \u001b[34m30\u001b[39;49;00m)):\u001b[37m\u001b[39;49;00m\n",
            "    df = pd.read_csv(DATASET_URL, sep=\u001b[33m\"\u001b[39;49;00m\u001b[33m;\u001b[39;49;00m\u001b[33m\"\u001b[39;49;00m)\u001b[37m\u001b[39;49;00m\n",
            "    df = df.sample(n=num_samples)\u001b[37m\u001b[39;49;00m\n",
            "    y = df.pop(\u001b[33m\"\u001b[39;49;00m\u001b[33mquality\u001b[39;49;00m\u001b[33m\"\u001b[39;49;00m).to_list()\u001b[37m\u001b[39;49;00m\n",
            "    X = df.to_dict(\u001b[33m\"\u001b[39;49;00m\u001b[33mrecords\u001b[39;49;00m\u001b[33m\"\u001b[39;49;00m)\u001b[37m\u001b[39;49;00m\n",
            "    X = [{key.replace(\u001b[33m\"\u001b[39;49;00m\u001b[33m \u001b[39;49;00m\u001b[33m\"\u001b[39;49;00m, \u001b[33m\"\u001b[39;49;00m\u001b[33m_\u001b[39;49;00m\u001b[33m\"\u001b[39;49;00m): value \u001b[34mfor\u001b[39;49;00m key, value \u001b[35min\u001b[39;49;00m row.items()} \u001b[34mfor\u001b[39;49;00m row \u001b[35min\u001b[39;49;00m X]\u001b[37m\u001b[39;49;00m\n",
            "    \u001b[36mprint\u001b[39;49;00m(\u001b[33mf\u001b[39;49;00m\u001b[33m\"\u001b[39;49;00m\u001b[33mFetched \u001b[39;49;00m\u001b[33m{\u001b[39;49;00mnum_samples\u001b[33m}\u001b[39;49;00m\u001b[33m random data points\u001b[39;49;00m\u001b[33m\"\u001b[39;49;00m)\u001b[37m\u001b[39;49;00m\n",
            "    \u001b[34mreturn\u001b[39;49;00m X, y\u001b[37m\u001b[39;49;00m\n",
            "\u001b[37m\u001b[39;49;00m\n",
            "\u001b[37m\u001b[39;49;00m\n",
            "features_list, actuals_list = get_input_data()\u001b[37m\u001b[39;49;00m\n",
            "\u001b[37m\u001b[39;49;00m\n",
            "\u001b[36mprint\u001b[39;49;00m(\u001b[33m\"\u001b[39;49;00m\u001b[33mRunning predictions...\u001b[39;49;00m\u001b[33m\"\u001b[39;49;00m)\u001b[37m\u001b[39;49;00m\n",
            "\u001b[37m# finding predictions from the inference server\u001b[39;49;00m\u001b[37m\u001b[39;49;00m\n",
            "predictions_list = requests.post(\u001b[37m\u001b[39;49;00m\n",
            "    url=urljoin(request_url, \u001b[33m\"\u001b[39;49;00m\u001b[33m./predict\u001b[39;49;00m\u001b[33m\"\u001b[39;49;00m), json=features_list\u001b[37m\u001b[39;49;00m\n",
            ").json()\u001b[37m\u001b[39;49;00m\n",
            "\u001b[37m\u001b[39;49;00m\n",
            "\u001b[36mprint\u001b[39;49;00m(\u001b[33m\"\u001b[39;49;00m\u001b[33mLogging predictions...\u001b[39;49;00m\u001b[33m\"\u001b[39;49;00m)\u001b[37m\u001b[39;49;00m\n",
            "\u001b[37m# logging actual values (null value for 12% cases, random value for 25% cases, correct value for rest)\u001b[39;49;00m\u001b[37m\u001b[39;49;00m\n",
            "time.sleep(\u001b[34m10\u001b[39;49;00m)\u001b[37m\u001b[39;49;00m\n",
            "\u001b[34mfor\u001b[39;49;00m prediction, actual \u001b[35min\u001b[39;49;00m \u001b[36mzip\u001b[39;49;00m(predictions_list, actuals_list):\u001b[37m\u001b[39;49;00m\n",
            "    rand = random.random()\u001b[37m\u001b[39;49;00m\n",
            "    actual_value = \u001b[36mstr\u001b[39;49;00m(actual)\u001b[37m\u001b[39;49;00m\n",
            "    \u001b[34mif\u001b[39;49;00m rand < \u001b[34m0.12\u001b[39;49;00m:\u001b[37m\u001b[39;49;00m\n",
            "        \u001b[34mcontinue\u001b[39;49;00m\u001b[37m\u001b[39;49;00m\n",
            "    \u001b[34mif\u001b[39;49;00m rand > \u001b[34m0.75\u001b[39;49;00m:\u001b[37m\u001b[39;49;00m\n",
            "        value = random.choice([\u001b[33m\"\u001b[39;49;00m\u001b[33m3\u001b[39;49;00m\u001b[33m\"\u001b[39;49;00m, \u001b[33m\"\u001b[39;49;00m\u001b[33m4\u001b[39;49;00m\u001b[33m\"\u001b[39;49;00m, \u001b[33m\"\u001b[39;49;00m\u001b[33m5\u001b[39;49;00m\u001b[33m\"\u001b[39;49;00m, \u001b[33m\"\u001b[39;49;00m\u001b[33m6\u001b[39;49;00m\u001b[33m\"\u001b[39;49;00m, \u001b[33m\"\u001b[39;49;00m\u001b[33m7\u001b[39;49;00m\u001b[33m\"\u001b[39;49;00m, \u001b[33m\"\u001b[39;49;00m\u001b[33m8\u001b[39;49;00m\u001b[33m\"\u001b[39;49;00m])\u001b[37m\u001b[39;49;00m\n",
            "    client.log_actuals(\u001b[37m\u001b[39;49;00m\n",
            "        model_version_fqn=prediction[\u001b[33m\"\u001b[39;49;00m\u001b[33mmodel_version_fqn\u001b[39;49;00m\u001b[33m\"\u001b[39;49;00m],\u001b[37m\u001b[39;49;00m\n",
            "        actuals=[mlf.Actual(data_id=prediction[\u001b[33m\"\u001b[39;49;00m\u001b[33mdata_id\u001b[39;49;00m\u001b[33m\"\u001b[39;49;00m], value=actual_value)],\u001b[37m\u001b[39;49;00m\n",
            "    )\u001b[37m\u001b[39;49;00m\n",
            "\u001b[37m\u001b[39;49;00m\n",
            "\u001b[36mprint\u001b[39;49;00m(\u001b[33m\"\u001b[39;49;00m\u001b[33mDone!\u001b[39;49;00m\u001b[33m\"\u001b[39;49;00m)\u001b[37m\u001b[39;49;00m\n"
          ]
        }
      ]
    },
    {
      "cell_type": "code",
      "source": [
        "import argparse\n",
        "import logging\n",
        "\n",
        "from servicefoundry import Build, Job, PythonBuild, Schedule\n",
        "\n",
        "logging.basicConfig(level=logging.INFO)\n",
        "\n",
        "job = Job(\n",
        "    name=\"red-wine-batch\",\n",
        "    image=Build(\n",
        "        build_spec=PythonBuild(command=\"python infer_batch.py\"),\n",
        "    ),\n",
        "    env={\n",
        "        \"INFERENCE_SERVER_URL\": INFERENCE_SERVER_URL,\n",
        "        \"TFY_API_KEY\": TFY_API_KEY,\n",
        "    },\n",
        "    trigger=Schedule(schedule=\"*/10 * * * *\"),\n",
        ")\n",
        "job.deploy(workspace_fqn=WORKSPACE)"
      ],
      "metadata": {
        "id": "Vgrc9_AnwxWX"
      },
      "execution_count": null,
      "outputs": []
    },
    {
      "cell_type": "markdown",
      "metadata": {
        "id": "qd_QjjTSz03p"
      },
      "source": [
        "# ☁ Deploying Streamlit Demo"
      ]
    },
    {
      "cell_type": "code",
      "source": [
        "%cd /content/truefoundry-examples/end-to-end-examples/red-wine-classification/demo"
      ],
      "metadata": {
        "id": "Ff1bBTmSz03p"
      },
      "execution_count": null,
      "outputs": []
    },
    {
      "cell_type": "code",
      "source": [
        "!pygmentize demo.py"
      ],
      "metadata": {
        "id": "HE2K1xwoz03q",
        "colab": {
          "base_uri": "https://localhost:8080/"
        },
        "outputId": "7a6d2743-e32f-4d3e-c3a9-166bf0744e1e"
      },
      "execution_count": 13,
      "outputs": [
        {
          "output_type": "stream",
          "name": "stdout",
          "text": [
            "\u001b[34mimport\u001b[39;49;00m \u001b[04m\u001b[36mos\u001b[39;49;00m\u001b[37m\u001b[39;49;00m\n",
            "\u001b[34mfrom\u001b[39;49;00m \u001b[04m\u001b[36murllib\u001b[39;49;00m\u001b[04m\u001b[36m.\u001b[39;49;00m\u001b[04m\u001b[36mparse\u001b[39;49;00m \u001b[34mimport\u001b[39;49;00m urljoin\u001b[37m\u001b[39;49;00m\n",
            "\u001b[37m\u001b[39;49;00m\n",
            "\u001b[34mimport\u001b[39;49;00m \u001b[04m\u001b[36mrequests\u001b[39;49;00m\u001b[37m\u001b[39;49;00m\n",
            "\u001b[34mimport\u001b[39;49;00m \u001b[04m\u001b[36mstreamlit\u001b[39;49;00m \u001b[34mas\u001b[39;49;00m \u001b[04m\u001b[36mst\u001b[39;49;00m\u001b[37m\u001b[39;49;00m\n",
            "\u001b[37m\u001b[39;49;00m\n",
            "\u001b[34mdef\u001b[39;49;00m \u001b[32mfetch\u001b[39;49;00m(session, url):\u001b[37m\u001b[39;49;00m\n",
            "    \u001b[34mtry\u001b[39;49;00m:\u001b[37m\u001b[39;49;00m\n",
            "        result = session.get(url)\u001b[37m\u001b[39;49;00m\n",
            "        \u001b[34mreturn\u001b[39;49;00m result.json()\u001b[37m\u001b[39;49;00m\n",
            "    \u001b[34mexcept\u001b[39;49;00m \u001b[36mException\u001b[39;49;00m:\u001b[37m\u001b[39;49;00m\n",
            "        \u001b[34mreturn\u001b[39;49;00m {}\u001b[37m\u001b[39;49;00m\n",
            "\u001b[37m\u001b[39;49;00m\n",
            "\u001b[37m\u001b[39;49;00m\n",
            "mini = [\u001b[34m4.600000\u001b[39;49;00m,\u001b[34m0.120000\u001b[39;49;00m,\u001b[34m0.000000\u001b[39;49;00m,\u001b[34m0.900000\u001b[39;49;00m,\u001b[34m0.012000\u001b[39;49;00m,\u001b[34m1.000000\u001b[39;49;00m,\u001b[34m6.000000\u001b[39;49;00m,\u001b[34m0.990070\u001b[39;49;00m,\u001b[34m2.740000\u001b[39;49;00m,\u001b[34m0.330000\u001b[39;49;00m,\u001b[34m8.400000\u001b[39;49;00m]\u001b[37m\u001b[39;49;00m\n",
            "maxi = [\u001b[34m15.900000\u001b[39;49;00m,\u001b[34m1.580000\u001b[39;49;00m,\u001b[34m1.000000\u001b[39;49;00m,\u001b[34m15.500000\u001b[39;49;00m,\u001b[34m0.611000\u001b[39;49;00m,\u001b[34m72.000000\u001b[39;49;00m,\u001b[34m289.000000\u001b[39;49;00m,\u001b[34m1.003690\u001b[39;49;00m,\u001b[34m4.010000\u001b[39;49;00m,\u001b[34m2.000000\u001b[39;49;00m,\u001b[34m14.900000\u001b[39;49;00m]\u001b[37m\u001b[39;49;00m\n",
            "\u001b[37m\u001b[39;49;00m\n",
            "\u001b[37m\u001b[39;49;00m\n",
            "\u001b[37m\u001b[39;49;00m\n",
            "\u001b[34mdef\u001b[39;49;00m \u001b[32mmain\u001b[39;49;00m():\u001b[37m\u001b[39;49;00m\n",
            "    \u001b[37m# don't forget the trailing slash\u001b[39;49;00m\u001b[37m\u001b[39;49;00m\n",
            "    request_url = os.getenv(\u001b[33m\"\u001b[39;49;00m\u001b[33mINFERENCE_SERVER_URL\u001b[39;49;00m\u001b[33m\"\u001b[39;49;00m)\u001b[37m\u001b[39;49;00m\n",
            "\u001b[37m\u001b[39;49;00m\n",
            "    st.set_page_config(page_title=\u001b[33m\"\u001b[39;49;00m\u001b[33mTrial\u001b[39;49;00m\u001b[33m\"\u001b[39;49;00m, page_icon=\u001b[33m\"\u001b[39;49;00m\u001b[33m🤖\u001b[39;49;00m\u001b[33m\"\u001b[39;49;00m)\u001b[37m\u001b[39;49;00m\n",
            "    st.title(\u001b[33m\"\u001b[39;49;00m\u001b[33mWine Quality Prediction\u001b[39;49;00m\u001b[33m\"\u001b[39;49;00m)\u001b[37m\u001b[39;49;00m\n",
            "    \u001b[34mwith\u001b[39;49;00m st.form(\u001b[33m\"\u001b[39;49;00m\u001b[33mmy_form\u001b[39;49;00m\u001b[33m\"\u001b[39;49;00m):        \u001b[37m\u001b[39;49;00m\n",
            "        fixed_acidity = st.slider(\u001b[33m\"\u001b[39;49;00m\u001b[33mFixed Acidity\u001b[39;49;00m\u001b[33m\"\u001b[39;49;00m,min_value=\u001b[34m0.0\u001b[39;49;00m,max_value=\u001b[34m16.0\u001b[39;49;00m,step=\u001b[34m0.1\u001b[39;49;00m,key=\u001b[33m\"\u001b[39;49;00m\u001b[33mfixed_acidity\u001b[39;49;00m\u001b[33m\"\u001b[39;49;00m)\u001b[37m\u001b[39;49;00m\n",
            "        volatile_acidity = st.slider(\u001b[33m\"\u001b[39;49;00m\u001b[33mVolatile Acidity\u001b[39;49;00m\u001b[33m\"\u001b[39;49;00m,min_value=\u001b[34m0.0\u001b[39;49;00m,max_value=\u001b[34m1.6\u001b[39;49;00m,step=\u001b[34m0.01\u001b[39;49;00m,key=\u001b[33m\"\u001b[39;49;00m\u001b[33mvolatile_acidity\u001b[39;49;00m\u001b[33m\"\u001b[39;49;00m)\u001b[37m\u001b[39;49;00m\n",
            "        citric_acid = st.slider(\u001b[33m\"\u001b[39;49;00m\u001b[33mCitric Acid\u001b[39;49;00m\u001b[33m\"\u001b[39;49;00m,min_value=mini[\u001b[34m2\u001b[39;49;00m],max_value=maxi[\u001b[34m2\u001b[39;49;00m],step=\u001b[34m0.01\u001b[39;49;00m)\u001b[37m\u001b[39;49;00m\n",
            "        residual_sugar = st.slider(\u001b[33m\"\u001b[39;49;00m\u001b[33mResidual Sugar\u001b[39;49;00m\u001b[33m\"\u001b[39;49;00m,min_value=mini[\u001b[34m3\u001b[39;49;00m],max_value=maxi[\u001b[34m3\u001b[39;49;00m],step=\u001b[34m0.1\u001b[39;49;00m)\u001b[37m\u001b[39;49;00m\n",
            "        chlorides = st.slider(\u001b[33m\"\u001b[39;49;00m\u001b[33mChlorides\u001b[39;49;00m\u001b[33m\"\u001b[39;49;00m,min_value=mini[\u001b[34m4\u001b[39;49;00m],max_value=maxi[\u001b[34m4\u001b[39;49;00m],step=\u001b[34m0.001\u001b[39;49;00m)\u001b[37m\u001b[39;49;00m\n",
            "        free_sulfur_dioxide = st.slider(\u001b[33m\"\u001b[39;49;00m\u001b[33mFree Sulfur Dioxide\u001b[39;49;00m\u001b[33m\"\u001b[39;49;00m,min_value=mini[\u001b[34m5\u001b[39;49;00m],max_value=maxi[\u001b[34m5\u001b[39;49;00m],step=\u001b[34m0.1\u001b[39;49;00m)\u001b[37m\u001b[39;49;00m\n",
            "        total_sulfur_dioxide = st.slider(\u001b[33m\"\u001b[39;49;00m\u001b[33mTotal Sulfur Dioxide\u001b[39;49;00m\u001b[33m\"\u001b[39;49;00m,min_value=mini[\u001b[34m6\u001b[39;49;00m],max_value=maxi[\u001b[34m6\u001b[39;49;00m],step=\u001b[34m0.1\u001b[39;49;00m)\u001b[37m\u001b[39;49;00m\n",
            "        density = st.slider(\u001b[33m\"\u001b[39;49;00m\u001b[33mDensity\u001b[39;49;00m\u001b[33m\"\u001b[39;49;00m,min_value=mini[\u001b[34m7\u001b[39;49;00m],max_value=maxi[\u001b[34m7\u001b[39;49;00m],step=\u001b[34m0.0001\u001b[39;49;00m)\u001b[37m\u001b[39;49;00m\n",
            "        pH = st.slider(\u001b[33m\"\u001b[39;49;00m\u001b[33mpH\u001b[39;49;00m\u001b[33m\"\u001b[39;49;00m,min_value=mini[\u001b[34m8\u001b[39;49;00m],max_value=maxi[\u001b[34m8\u001b[39;49;00m],step=\u001b[34m0.01\u001b[39;49;00m)\u001b[37m\u001b[39;49;00m\n",
            "        sulphates = st.slider(\u001b[33m\"\u001b[39;49;00m\u001b[33mSulphates\u001b[39;49;00m\u001b[33m\"\u001b[39;49;00m,min_value=mini[\u001b[34m9\u001b[39;49;00m],max_value=maxi[\u001b[34m9\u001b[39;49;00m],step=\u001b[34m0.01\u001b[39;49;00m)\u001b[37m\u001b[39;49;00m\n",
            "        alcohol = st.slider(\u001b[33m\"\u001b[39;49;00m\u001b[33mCitric Acid\u001b[39;49;00m\u001b[33m\"\u001b[39;49;00m,min_value=mini[\u001b[34m10\u001b[39;49;00m],max_value=maxi[\u001b[34m10\u001b[39;49;00m],step=\u001b[34m0.1\u001b[39;49;00m)\u001b[37m\u001b[39;49;00m\n",
            "\u001b[37m\u001b[39;49;00m\n",
            "        features = [\u001b[37m\u001b[39;49;00m\n",
            "            {\u001b[37m\u001b[39;49;00m\n",
            "                \u001b[33m\"\u001b[39;49;00m\u001b[33mdata id\u001b[39;49;00m\u001b[33m\"\u001b[39;49;00m: \u001b[33m\"\u001b[39;49;00m\u001b[33mstring\u001b[39;49;00m\u001b[33m\"\u001b[39;49;00m,\u001b[37m\u001b[39;49;00m\n",
            "                \u001b[33m\"\u001b[39;49;00m\u001b[33mfixed acidity\u001b[39;49;00m\u001b[33m\"\u001b[39;49;00m: fixed_acidity,\u001b[37m\u001b[39;49;00m\n",
            "                \u001b[33m\"\u001b[39;49;00m\u001b[33mvolatile acidity\u001b[39;49;00m\u001b[33m\"\u001b[39;49;00m: volatile_acidity,\u001b[37m\u001b[39;49;00m\n",
            "                \u001b[33m\"\u001b[39;49;00m\u001b[33mcitric acid\u001b[39;49;00m\u001b[33m\"\u001b[39;49;00m: citric_acid,\u001b[37m\u001b[39;49;00m\n",
            "                \u001b[33m\"\u001b[39;49;00m\u001b[33mresidual sugar\u001b[39;49;00m\u001b[33m\"\u001b[39;49;00m: residual_sugar,\u001b[37m\u001b[39;49;00m\n",
            "                \u001b[33m\"\u001b[39;49;00m\u001b[33mchlorides\u001b[39;49;00m\u001b[33m\"\u001b[39;49;00m: chlorides,\u001b[37m\u001b[39;49;00m\n",
            "                \u001b[33m\"\u001b[39;49;00m\u001b[33mfree sulfur dioxide\u001b[39;49;00m\u001b[33m\"\u001b[39;49;00m: free_sulfur_dioxide,\u001b[37m\u001b[39;49;00m\n",
            "                \u001b[33m\"\u001b[39;49;00m\u001b[33mtotal sulfur dioxide\u001b[39;49;00m\u001b[33m\"\u001b[39;49;00m: total_sulfur_dioxide,\u001b[37m\u001b[39;49;00m\n",
            "                \u001b[33m\"\u001b[39;49;00m\u001b[33mdensity\u001b[39;49;00m\u001b[33m\"\u001b[39;49;00m: density,\u001b[37m\u001b[39;49;00m\n",
            "                \u001b[33m\"\u001b[39;49;00m\u001b[33mpH\u001b[39;49;00m\u001b[33m\"\u001b[39;49;00m: pH,\u001b[37m\u001b[39;49;00m\n",
            "                \u001b[33m\"\u001b[39;49;00m\u001b[33msulphates\u001b[39;49;00m\u001b[33m\"\u001b[39;49;00m: sulphates,\u001b[37m\u001b[39;49;00m\n",
            "                \u001b[33m\"\u001b[39;49;00m\u001b[33malcohol\u001b[39;49;00m\u001b[33m\"\u001b[39;49;00m: alcohol\u001b[37m\u001b[39;49;00m\n",
            "            }\u001b[37m\u001b[39;49;00m\n",
            "        ]\u001b[37m\u001b[39;49;00m\n",
            "\u001b[37m\u001b[39;49;00m\n",
            "\u001b[37m\u001b[39;49;00m\n",
            "        submitted = st.form_submit_button(\u001b[33m\"\u001b[39;49;00m\u001b[33mSubmit\u001b[39;49;00m\u001b[33m\"\u001b[39;49;00m)\u001b[37m\u001b[39;49;00m\n",
            "\u001b[37m\u001b[39;49;00m\n",
            "        \u001b[34mif\u001b[39;49;00m submitted:\u001b[37m\u001b[39;49;00m\n",
            "            r = requests.post(url=urljoin(request_url, \u001b[33m\"\u001b[39;49;00m\u001b[33m./predict\u001b[39;49;00m\u001b[33m\"\u001b[39;49;00m), json=features)\u001b[37m\u001b[39;49;00m\n",
            "            \u001b[36mprint\u001b[39;49;00m(\u001b[33m\"\u001b[39;49;00m\u001b[33mStatus Code:\u001b[39;49;00m\u001b[33m\"\u001b[39;49;00m, r.status_code)\u001b[37m\u001b[39;49;00m\n",
            "            data = r.json()\u001b[37m\u001b[39;49;00m\n",
            "            \u001b[36mprint\u001b[39;49;00m(\u001b[33m\"\u001b[39;49;00m\u001b[33mGot Response:\u001b[39;49;00m\u001b[33m\"\u001b[39;49;00m, data)\u001b[37m\u001b[39;49;00m\n",
            "            \u001b[34mif\u001b[39;49;00m data:\u001b[37m\u001b[39;49;00m\n",
            "                st.metric(label=\u001b[33m\"\u001b[39;49;00m\u001b[33mWine Quality\u001b[39;49;00m\u001b[33m\"\u001b[39;49;00m, value=data[\u001b[34m0\u001b[39;49;00m][\u001b[33m\"\u001b[39;49;00m\u001b[33mvalue\u001b[39;49;00m\u001b[33m\"\u001b[39;49;00m])\u001b[37m\u001b[39;49;00m\n",
            "            \u001b[34melse\u001b[39;49;00m:\u001b[37m\u001b[39;49;00m\n",
            "                st.error(\u001b[33m\"\u001b[39;49;00m\u001b[33mError\u001b[39;49;00m\u001b[33m\"\u001b[39;49;00m)\u001b[37m\u001b[39;49;00m\n",
            "\u001b[37m\u001b[39;49;00m\n",
            "\u001b[37m\u001b[39;49;00m\n",
            "\u001b[34mif\u001b[39;49;00m \u001b[31m__name__\u001b[39;49;00m == \u001b[33m'\u001b[39;49;00m\u001b[33m__main__\u001b[39;49;00m\u001b[33m'\u001b[39;49;00m:\u001b[37m\u001b[39;49;00m\n",
            "    main()\u001b[37m\u001b[39;49;00m\n"
          ]
        }
      ]
    },
    {
      "cell_type": "code",
      "source": [
        "import argparse\n",
        "import logging\n",
        "\n",
        "from servicefoundry import Build, Job, PythonBuild, Schedule\n",
        "\n",
        "logging.basicConfig(level=logging.INFO)\n",
        "\n",
        "# creating a service object and defining all the configurations\n",
        "service = Service(\n",
        "    name=\"red-wine-demo\",\n",
        "    image=Build(\n",
        "        build_spec=PythonBuild(\n",
        "            command=\"streamlit run demo.py\",\n",
        "            python_version=\"3.9\",\n",
        "        ),\n",
        "    ),\n",
        "    env={\n",
        "        \"INFERENCE_SERVER_URL\": INFERENCE_SERVER_URL,\n",
        "        \"TFY_API_KEY\": TFY_API_KEY,\n",
        "    },\n",
        "    ports=[{\"port\": 8501}], #In public cloud deployment TrueFoundry exposes port 8501\n",
        "    resources=Resources(\n",
        "        cpu_request=0.5, cpu_limit=0.5, memory_limit=2500, memory_request=1500\n",
        "    ),\n",
        ")\n",
        "service.deploy(workspace_fqn=WORKSPACE)"
      ],
      "metadata": {
        "id": "EcEnIsE9z03q"
      },
      "execution_count": null,
      "outputs": []
    },
    {
      "cell_type": "markdown",
      "source": [
        "Click on the dashboard link in the terminal. Click on the \"Endpoint\" link on the dashboard to open the streamlit demo"
      ],
      "metadata": {
        "id": "zmj4SOI-0oCw"
      }
    }
  ],
  "metadata": {
    "colab": {
      "collapsed_sections": [
        "2c6nhZIxSvl2",
        "EXQVmwcESbjg",
        "Pk4fgjByGgrr",
        "s9RX9iM5g1UJ",
        "u75vYyd1wxWC",
        "qd_QjjTSz03p"
      ],
      "provenance": []
    },
    "kernelspec": {
      "display_name": "Python 3",
      "name": "python3"
    },
    "language_info": {
      "name": "python"
    }
  },
  "nbformat": 4,
  "nbformat_minor": 0
}