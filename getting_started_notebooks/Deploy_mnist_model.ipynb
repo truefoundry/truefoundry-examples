{
  "cells": [
    {
      "cell_type": "markdown",
      "metadata": {
        "id": "QOAnoPl-dlSY"
      },
      "source": [
        "# Train and Deploy Model on Truefoundry\n",
        "This notebook demonstrates a demo on how you can train an image classification model on mnist dataset and deploy the model as a Gradio App on truefoundry platform."
      ]
    },
    {
      "cell_type": "markdown",
      "metadata": {
        "id": "2c6nhZIxSvl2"
      },
      "source": [
        "# 🛠 Setup\n",
        "To follow along with the notebook, you will have to do the following:\n",
        "* Install **servicefoundry**\n",
        "* Setup logging\n",
        "* Select the Workspace in which you want to deploy your application.\n",
        "* Install the required packages"
      ]
    },
    {
      "cell_type": "code",
      "execution_count": null,
      "metadata": {
        "colab": {
          "base_uri": "https://localhost:8080/"
        },
        "id": "rnalU7uLTgmr",
        "outputId": "fe7f9cfe-c2bf-4cbb-f1d7-8c21826c1827"
      },
      "outputs": [
        {
          "output_type": "stream",
          "name": "stdout",
          "text": [
            "Looking in indexes: https://pypi.org/simple, https://us-python.pkg.dev/colab-wheels/public/simple/\n",
            "Requirement already satisfied: servicefoundry in /usr/local/lib/python3.10/dist-packages (0.9.8)\n",
            "Requirement already satisfied: GitPython<4.0.0,>=3.1.27 in /usr/local/lib/python3.10/dist-packages (from servicefoundry) (3.1.31)\n",
            "Requirement already satisfied: Mako<2.0.0,>=1.1.6 in /usr/local/lib/python3.10/dist-packages (from servicefoundry) (1.2.4)\n",
            "Requirement already satisfied: PyJWT<3.0.0,>=2.0.0 in /usr/local/lib/python3.10/dist-packages (from servicefoundry) (2.7.0)\n",
            "Requirement already satisfied: PyYAML<7.0,>=6.0 in /usr/local/lib/python3.10/dist-packages (from servicefoundry) (6.0)\n",
            "Requirement already satisfied: chevron<0.15.0,>=0.14.0 in /usr/local/lib/python3.10/dist-packages (from servicefoundry) (0.14.0)\n",
            "Requirement already satisfied: click<9.0.0,>=7.0.0 in /usr/local/lib/python3.10/dist-packages (from servicefoundry) (8.1.3)\n",
            "Requirement already satisfied: cookiecutter<3.0.0,>=2.1.1 in /usr/local/lib/python3.10/dist-packages (from servicefoundry) (2.1.1)\n",
            "Requirement already satisfied: docker<7.0.0,>=6.0.1 in /usr/local/lib/python3.10/dist-packages (from servicefoundry) (6.1.3)\n",
            "Requirement already satisfied: fastapi<0.94.0,>=0.56.0 in /usr/local/lib/python3.10/dist-packages (from servicefoundry) (0.93.0)\n",
            "Requirement already satisfied: filelock<4.0.0,>=3.8.0 in /usr/local/lib/python3.10/dist-packages (from servicefoundry) (3.12.0)\n",
            "Requirement already satisfied: gitignorefile<2.0.0,>=1.1.2 in /usr/local/lib/python3.10/dist-packages (from servicefoundry) (1.1.2)\n",
            "Requirement already satisfied: importlib-metadata<5.0,>=4.2 in /usr/local/lib/python3.10/dist-packages (from servicefoundry) (4.13.0)\n",
            "Requirement already satisfied: importlib-resources<6.0.0,>=5.2.0 in /usr/local/lib/python3.10/dist-packages (from servicefoundry) (5.12.0)\n",
            "Requirement already satisfied: packaging<24.0,>=20.0 in /usr/local/lib/python3.10/dist-packages (from servicefoundry) (23.1)\n",
            "Requirement already satisfied: pydantic<2.0.0,>=1.9.0 in /usr/local/lib/python3.10/dist-packages (from servicefoundry) (1.10.7)\n",
            "Requirement already satisfied: pygments<3.0.0,>=2.12.0 in /usr/local/lib/python3.10/dist-packages (from servicefoundry) (2.14.0)\n",
            "Requirement already satisfied: python-dateutil<3.0.0,>=2.8.2 in /usr/local/lib/python3.10/dist-packages (from servicefoundry) (2.8.2)\n",
            "Requirement already satisfied: python-socketio[client]<6.0.0,>=5.5.2 in /usr/local/lib/python3.10/dist-packages (from servicefoundry) (5.8.0)\n",
            "Requirement already satisfied: questionary<2.0.0,>=1.10.0 in /usr/local/lib/python3.10/dist-packages (from servicefoundry) (1.10.0)\n",
            "Requirement already satisfied: requests<2.29.0,>=2.23.0 in /usr/local/lib/python3.10/dist-packages (from servicefoundry) (2.27.1)\n",
            "Requirement already satisfied: rich<13.0.0,>=12.0.0 in /usr/local/lib/python3.10/dist-packages (from servicefoundry) (12.6.0)\n",
            "Requirement already satisfied: rich-click<2.0.0,>=1.2.1 in /usr/local/lib/python3.10/dist-packages (from servicefoundry) (1.6.1)\n",
            "Requirement already satisfied: tqdm<5.0.0,>=4.0.0 in /usr/local/lib/python3.10/dist-packages (from servicefoundry) (4.65.0)\n",
            "Requirement already satisfied: typing-extensions>=3.10.0 in /usr/local/lib/python3.10/dist-packages (from servicefoundry) (4.5.0)\n",
            "Requirement already satisfied: uvicorn<0.22.0,>=0.13.0 in /usr/local/lib/python3.10/dist-packages (from servicefoundry) (0.21.1)\n",
            "Requirement already satisfied: yq<4.0.0,>=3.1.0 in /usr/local/lib/python3.10/dist-packages (from servicefoundry) (3.2.2)\n",
            "Requirement already satisfied: binaryornot>=0.4.4 in /usr/local/lib/python3.10/dist-packages (from cookiecutter<3.0.0,>=2.1.1->servicefoundry) (0.4.4)\n",
            "Requirement already satisfied: Jinja2<4.0.0,>=2.7 in /usr/local/lib/python3.10/dist-packages (from cookiecutter<3.0.0,>=2.1.1->servicefoundry) (3.1.2)\n",
            "Requirement already satisfied: jinja2-time>=0.2.0 in /usr/local/lib/python3.10/dist-packages (from cookiecutter<3.0.0,>=2.1.1->servicefoundry) (0.2.0)\n",
            "Requirement already satisfied: python-slugify>=4.0.0 in /usr/local/lib/python3.10/dist-packages (from cookiecutter<3.0.0,>=2.1.1->servicefoundry) (8.0.1)\n",
            "Requirement already satisfied: urllib3>=1.26.0 in /usr/local/lib/python3.10/dist-packages (from docker<7.0.0,>=6.0.1->servicefoundry) (1.26.15)\n",
            "Requirement already satisfied: websocket-client>=0.32.0 in /usr/local/lib/python3.10/dist-packages (from docker<7.0.0,>=6.0.1->servicefoundry) (1.5.1)\n",
            "Requirement already satisfied: starlette<0.26.0,>=0.25.0 in /usr/local/lib/python3.10/dist-packages (from fastapi<0.94.0,>=0.56.0->servicefoundry) (0.25.0)\n",
            "Requirement already satisfied: gitdb<5,>=4.0.1 in /usr/local/lib/python3.10/dist-packages (from GitPython<4.0.0,>=3.1.27->servicefoundry) (4.0.10)\n",
            "Requirement already satisfied: zipp>=0.5 in /usr/local/lib/python3.10/dist-packages (from importlib-metadata<5.0,>=4.2->servicefoundry) (3.15.0)\n",
            "Requirement already satisfied: MarkupSafe>=0.9.2 in /usr/local/lib/python3.10/dist-packages (from Mako<2.0.0,>=1.1.6->servicefoundry) (2.1.2)\n",
            "Requirement already satisfied: six>=1.5 in /usr/local/lib/python3.10/dist-packages (from python-dateutil<3.0.0,>=2.8.2->servicefoundry) (1.16.0)\n",
            "Requirement already satisfied: bidict>=0.21.0 in /usr/local/lib/python3.10/dist-packages (from python-socketio[client]<6.0.0,>=5.5.2->servicefoundry) (0.22.1)\n",
            "Requirement already satisfied: python-engineio>=4.3.0 in /usr/local/lib/python3.10/dist-packages (from python-socketio[client]<6.0.0,>=5.5.2->servicefoundry) (4.4.1)\n",
            "Requirement already satisfied: prompt_toolkit<4.0,>=2.0 in /usr/local/lib/python3.10/dist-packages (from questionary<2.0.0,>=1.10.0->servicefoundry) (3.0.38)\n",
            "Requirement already satisfied: certifi>=2017.4.17 in /usr/local/lib/python3.10/dist-packages (from requests<2.29.0,>=2.23.0->servicefoundry) (2022.12.7)\n",
            "Requirement already satisfied: charset-normalizer~=2.0.0 in /usr/local/lib/python3.10/dist-packages (from requests<2.29.0,>=2.23.0->servicefoundry) (2.0.12)\n",
            "Requirement already satisfied: idna<4,>=2.5 in /usr/local/lib/python3.10/dist-packages (from requests<2.29.0,>=2.23.0->servicefoundry) (3.4)\n",
            "Requirement already satisfied: commonmark<0.10.0,>=0.9.0 in /usr/local/lib/python3.10/dist-packages (from rich<13.0.0,>=12.0.0->servicefoundry) (0.9.1)\n",
            "Requirement already satisfied: h11>=0.8 in /usr/local/lib/python3.10/dist-packages (from uvicorn<0.22.0,>=0.13.0->servicefoundry) (0.14.0)\n",
            "Requirement already satisfied: xmltodict>=0.11.0 in /usr/local/lib/python3.10/dist-packages (from yq<4.0.0,>=3.1.0->servicefoundry) (0.13.0)\n",
            "Requirement already satisfied: tomlkit>=0.11.6 in /usr/local/lib/python3.10/dist-packages (from yq<4.0.0,>=3.1.0->servicefoundry) (0.11.8)\n",
            "Requirement already satisfied: argcomplete>=1.8.1 in /usr/local/lib/python3.10/dist-packages (from yq<4.0.0,>=3.1.0->servicefoundry) (3.1.1)\n",
            "Requirement already satisfied: chardet>=3.0.2 in /usr/local/lib/python3.10/dist-packages (from binaryornot>=0.4.4->cookiecutter<3.0.0,>=2.1.1->servicefoundry) (4.0.0)\n",
            "Requirement already satisfied: smmap<6,>=3.0.1 in /usr/local/lib/python3.10/dist-packages (from gitdb<5,>=4.0.1->GitPython<4.0.0,>=3.1.27->servicefoundry) (5.0.0)\n",
            "Requirement already satisfied: arrow in /usr/local/lib/python3.10/dist-packages (from jinja2-time>=0.2.0->cookiecutter<3.0.0,>=2.1.1->servicefoundry) (1.2.3)\n",
            "Requirement already satisfied: wcwidth in /usr/local/lib/python3.10/dist-packages (from prompt_toolkit<4.0,>=2.0->questionary<2.0.0,>=1.10.0->servicefoundry) (0.2.6)\n",
            "Requirement already satisfied: text-unidecode>=1.3 in /usr/local/lib/python3.10/dist-packages (from python-slugify>=4.0.0->cookiecutter<3.0.0,>=2.1.1->servicefoundry) (1.3)\n",
            "Requirement already satisfied: anyio<5,>=3.4.0 in /usr/local/lib/python3.10/dist-packages (from starlette<0.26.0,>=0.25.0->fastapi<0.94.0,>=0.56.0->servicefoundry) (3.6.2)\n",
            "Requirement already satisfied: sniffio>=1.1 in /usr/local/lib/python3.10/dist-packages (from anyio<5,>=3.4.0->starlette<0.26.0,>=0.25.0->fastapi<0.94.0,>=0.56.0->servicefoundry) (1.3.0)\n"
          ]
        }
      ],
      "source": [
        "!pip install -U \"servicefoundry\""
      ]
    },
    {
      "cell_type": "code",
      "execution_count": null,
      "metadata": {
        "id": "NN133xapzkt7"
      },
      "outputs": [],
      "source": [
        "import logging\n",
        "[logging.root.removeHandler(h) for h in logging.root.handlers]\n",
        "logging.basicConfig(level=logging.INFO, format='%(asctime)s [%(name)s] %(levelname)-8s %(message)s')"
      ]
    },
    {
      "cell_type": "code",
      "source": [
        "import os\n",
        "os.environ[\"TFY_HOST\"]=\"https://app.devtest.truefoundry.tech\""
      ],
      "metadata": {
        "id": "kkbK3IuTDlQ7"
      },
      "execution_count": null,
      "outputs": []
    },
    {
      "cell_type": "code",
      "execution_count": null,
      "metadata": {
        "colab": {
          "base_uri": "https://localhost:8080/"
        },
        "id": "FmmB5HHfXvES",
        "outputId": "88cd89fe-dc16-44bd-b15f-8f3cb990dc75"
      },
      "outputs": [
        {
          "output_type": "stream",
          "name": "stdout",
          "text": [
            "Opening:- \u001b[4;94mhttps://app.devtest.truefoundry.tech/authorize/device?\u001b[0m\u001b[4;94muserCode\u001b[0m\u001b[4;94m=\u001b[0m\u001b[4;94m465M5H\u001b[0m\n",
            "Please click on the above link if it is not automatically opened in a browser window.\n",
            "/usr/bin/xdg-open: 869: www-browser: not found\n",
            "/usr/bin/xdg-open: 869: links2: not found\n",
            "/usr/bin/xdg-open: 869: elinks: not found\n",
            "/usr/bin/xdg-open: 869: links: not found\n",
            "/usr/bin/xdg-open: 869: lynx: not found\n",
            "/usr/bin/xdg-open: 869: w3m: not found\n",
            "xdg-open: no method available for opening 'https://app.devtest.truefoundry.tech/authorize/device?userCode=465M5H'\n",
            "Successfully logged in to \u001b[32m'https://app.devtest.truefoundry.tech'\u001b[0m as \u001b[32m'aditya-j'\u001b[0m \u001b[1m(\u001b[0maditya@truefoundry.com\u001b[1m)\u001b[0m\n"
          ]
        }
      ],
      "source": [
        "!sfy login --relogin"
      ]
    },
    {
      "cell_type": "code",
      "execution_count": null,
      "metadata": {
        "id": "7Jbz_mmQrv-M",
        "colab": {
          "base_uri": "https://localhost:8080/"
        },
        "outputId": "049027fc-25e7-486f-8fed-0bd84985fb70"
      },
      "outputs": [
        {
          "output_type": "stream",
          "name": "stdout",
          "text": [
            "https://app.devtest.truefoundry.tech/workspaces\n"
          ]
        }
      ],
      "source": [
        "print(\"https://app.devtest.truefoundry.tech/workspaces\")"
      ]
    },
    {
      "cell_type": "markdown",
      "source": [
        "### Workspace FQN\n",
        "Once you run the cell below you will get a prompt to enter your workspace. <br>\n",
        "* Step 1: Click on the link given in the prompt.\n",
        "* Step 2: Identify the Workspace you want to deploy the application in.\n",
        "* Step 3: Copy the Workspace FQN <br>\n",
        "![Copying Workspace FQN](https://files.readme.io/730fee2-Screenshot_2023-02-28_at_2.08.34_PM.png)\n",
        "* Step 4: Paste the  Workspace FQN in the prompt and press enter."
      ],
      "metadata": {
        "id": "LRUJedgSGZrH"
      }
    },
    {
      "cell_type": "code",
      "source": [
        "WORKSPACE = \"<Your Workspace FQN>\""
      ],
      "metadata": {
        "id": "elr9RXA4En1G"
      },
      "execution_count": null,
      "outputs": []
    },
    {
      "cell_type": "markdown",
      "source": [
        "# MNIST Dataset - Problem Statement and Data Exploration\n",
        "\n",
        "The MNIST dataset is a popular benchmark dataset in the field of machine learning and computer vision. It consists of a large collection of handwritten digits (0-9) in grayscale images, along with their corresponding labels.\n",
        "\n",
        "### Problem Statement\n",
        "\n",
        "The problem associated with the MNIST dataset is to train a model that can accurately classify the given images of handwritten digits into their respective classes. It is a classification problem with 10 classes (0-9), where each image represents a single digit.\n",
        "\n",
        "### Data Exploration\n",
        "\n",
        "Let's explore the MNIST dataset by loading and visualizing some of its samples."
      ],
      "metadata": {
        "id": "ZMUlU9JaFqjb"
      }
    },
    {
      "cell_type": "code",
      "source": [
        "import matplotlib.pyplot as plt\n",
        "from tensorflow.keras.datasets import mnist\n",
        "\n",
        "# Load the MNIST dataset\n",
        "(x_train, y_train), (x_test, y_test) = mnist.load_data()\n",
        "\n",
        "print(f\"The number of train images: {len(x_train)}\")\n",
        "print(f\"The number of test images: {len(x_test)}\")"
      ],
      "metadata": {
        "colab": {
          "base_uri": "https://localhost:8080/"
        },
        "id": "yobS2EbrGuuU",
        "outputId": "586c5adb-356b-4c88-ed16-9c496c084f35"
      },
      "execution_count": null,
      "outputs": [
        {
          "output_type": "stream",
          "name": "stdout",
          "text": [
            "Downloading data from https://storage.googleapis.com/tensorflow/tf-keras-datasets/mnist.npz\n",
            "11490434/11490434 [==============================] - 0s 0us/step\n",
            "The number of train images: 60000\n",
            "The number of test images: 10000\n"
          ]
        }
      ]
    },
    {
      "cell_type": "markdown",
      "source": [
        "The MNIST dataset is divided into two sets: a training set (x_train and y_train) and a testing set (x_test and y_test). The training set contains 60,000 images, while the testing set contains 10,000 images.\n",
        "\n",
        "Now, let's visualize some samples from the dataset using matplotlib:"
      ],
      "metadata": {
        "id": "hZV7qQlMG2v3"
      }
    },
    {
      "cell_type": "code",
      "source": [
        "# Plot some sample images\n",
        "plt.figure(figsize=(10, 5))\n",
        "for i in range(10):\n",
        "    plt.subplot(2, 5, i+1)\n",
        "    plt.imshow(x_train[i], cmap='gray')\n",
        "    plt.title(f\"Label: {y_train[i]}\")\n",
        "    plt.axis('off')\n",
        "plt.tight_layout()\n",
        "plt.show()"
      ],
      "metadata": {
        "colab": {
          "base_uri": "https://localhost:8080/",
          "height": 473
        },
        "id": "AYV6qMxaHf0K",
        "outputId": "8ce4f585-2b1d-41d3-b0c1-5f4bacd329b3"
      },
      "execution_count": null,
      "outputs": [
        {
          "output_type": "display_data",
          "data": {
            "text/plain": [
              "<Figure size 1000x500 with 10 Axes>"
            ],
            "image/png": "[encoded data removed]"
          },
          "metadata": {}
        }
      ]
    },
    {
      "cell_type": "markdown",
      "source": [
        "\n",
        "The code above plots a grid of 10 sample images from the training set. Each image is displayed in grayscale, and the corresponding label is shown as the title.\n",
        "\n",
        "You can see that the images are 28x28 pixels in size and represent handwritten digits. The labels indicate the true values of the digits."
      ],
      "metadata": {
        "id": "jZ0w7bA2HkPs"
      }
    },
    {
      "cell_type": "markdown",
      "source": [
        "# Train the model\n",
        "\n",
        "First we will install the required libraries for training.<br>\n",
        "Now we are going to train our model\n"
      ],
      "metadata": {
        "id": "dVuzxCrHEzdq"
      }
    },
    {
      "cell_type": "code",
      "execution_count": null,
      "metadata": {
        "colab": {
          "base_uri": "https://localhost:8080/"
        },
        "id": "OE8SCnTmqFuR",
        "outputId": "188c286b-c291-49ec-dda2-345763bc17fc"
      },
      "outputs": [
        {
          "output_type": "stream",
          "name": "stdout",
          "text": [
            "Looking in indexes: https://pypi.org/simple, https://us-python.pkg.dev/colab-wheels/public/simple/\n",
            "Requirement already satisfied: tensorflow in /usr/local/lib/python3.10/dist-packages (2.12.0)\n",
            "Requirement already satisfied: absl-py>=1.0.0 in /usr/local/lib/python3.10/dist-packages (from tensorflow) (1.4.0)\n",
            "Requirement already satisfied: astunparse>=1.6.0 in /usr/local/lib/python3.10/dist-packages (from tensorflow) (1.6.3)\n",
            "Requirement already satisfied: flatbuffers>=2.0 in /usr/local/lib/python3.10/dist-packages (from tensorflow) (23.3.3)\n",
            "Requirement already satisfied: gast<=0.4.0,>=0.2.1 in /usr/local/lib/python3.10/dist-packages (from tensorflow) (0.4.0)\n",
            "Requirement already satisfied: google-pasta>=0.1.1 in /usr/local/lib/python3.10/dist-packages (from tensorflow) (0.2.0)\n",
            "Requirement already satisfied: grpcio<2.0,>=1.24.3 in /usr/local/lib/python3.10/dist-packages (from tensorflow) (1.54.0)\n",
            "Requirement already satisfied: h5py>=2.9.0 in /usr/local/lib/python3.10/dist-packages (from tensorflow) (3.8.0)\n",
            "Requirement already satisfied: jax>=0.3.15 in /usr/local/lib/python3.10/dist-packages (from tensorflow) (0.4.10)\n",
            "Requirement already satisfied: keras<2.13,>=2.12.0 in /usr/local/lib/python3.10/dist-packages (from tensorflow) (2.12.0)\n",
            "Requirement already satisfied: libclang>=13.0.0 in /usr/local/lib/python3.10/dist-packages (from tensorflow) (16.0.0)\n",
            "Requirement already satisfied: numpy<1.24,>=1.22 in /usr/local/lib/python3.10/dist-packages (from tensorflow) (1.22.4)\n",
            "Requirement already satisfied: opt-einsum>=2.3.2 in /usr/local/lib/python3.10/dist-packages (from tensorflow) (3.3.0)\n",
            "Requirement already satisfied: packaging in /usr/local/lib/python3.10/dist-packages (from tensorflow) (23.1)\n",
            "Requirement already satisfied: protobuf!=4.21.0,!=4.21.1,!=4.21.2,!=4.21.3,!=4.21.4,!=4.21.5,<5.0.0dev,>=3.20.3 in /usr/local/lib/python3.10/dist-packages (from tensorflow) (3.20.3)\n",
            "Requirement already satisfied: setuptools in /usr/local/lib/python3.10/dist-packages (from tensorflow) (67.7.2)\n",
            "Requirement already satisfied: six>=1.12.0 in /usr/local/lib/python3.10/dist-packages (from tensorflow) (1.16.0)\n",
            "Requirement already satisfied: tensorboard<2.13,>=2.12 in /usr/local/lib/python3.10/dist-packages (from tensorflow) (2.12.2)\n",
            "Requirement already satisfied: tensorflow-estimator<2.13,>=2.12.0 in /usr/local/lib/python3.10/dist-packages (from tensorflow) (2.12.0)\n",
            "Requirement already satisfied: termcolor>=1.1.0 in /usr/local/lib/python3.10/dist-packages (from tensorflow) (2.3.0)\n",
            "Requirement already satisfied: typing-extensions>=3.6.6 in /usr/local/lib/python3.10/dist-packages (from tensorflow) (4.5.0)\n",
            "Requirement already satisfied: wrapt<1.15,>=1.11.0 in /usr/local/lib/python3.10/dist-packages (from tensorflow) (1.14.1)\n",
            "Requirement already satisfied: tensorflow-io-gcs-filesystem>=0.23.1 in /usr/local/lib/python3.10/dist-packages (from tensorflow) (0.32.0)\n",
            "Requirement already satisfied: wheel<1.0,>=0.23.0 in /usr/local/lib/python3.10/dist-packages (from astunparse>=1.6.0->tensorflow) (0.40.0)\n",
            "Requirement already satisfied: ml-dtypes>=0.1.0 in /usr/local/lib/python3.10/dist-packages (from jax>=0.3.15->tensorflow) (0.1.0)\n",
            "Requirement already satisfied: scipy>=1.7 in /usr/local/lib/python3.10/dist-packages (from jax>=0.3.15->tensorflow) (1.10.1)\n",
            "Requirement already satisfied: google-auth<3,>=1.6.3 in /usr/local/lib/python3.10/dist-packages (from tensorboard<2.13,>=2.12->tensorflow) (2.17.3)\n",
            "Requirement already satisfied: google-auth-oauthlib<1.1,>=0.5 in /usr/local/lib/python3.10/dist-packages (from tensorboard<2.13,>=2.12->tensorflow) (1.0.0)\n",
            "Requirement already satisfied: markdown>=2.6.8 in /usr/local/lib/python3.10/dist-packages (from tensorboard<2.13,>=2.12->tensorflow) (3.4.3)\n",
            "Requirement already satisfied: requests<3,>=2.21.0 in /usr/local/lib/python3.10/dist-packages (from tensorboard<2.13,>=2.12->tensorflow) (2.27.1)\n",
            "Requirement already satisfied: tensorboard-data-server<0.8.0,>=0.7.0 in /usr/local/lib/python3.10/dist-packages (from tensorboard<2.13,>=2.12->tensorflow) (0.7.0)\n",
            "Requirement already satisfied: tensorboard-plugin-wit>=1.6.0 in /usr/local/lib/python3.10/dist-packages (from tensorboard<2.13,>=2.12->tensorflow) (1.8.1)\n",
            "Requirement already satisfied: werkzeug>=1.0.1 in /usr/local/lib/python3.10/dist-packages (from tensorboard<2.13,>=2.12->tensorflow) (2.3.0)\n",
            "Requirement already satisfied: cachetools<6.0,>=2.0.0 in /usr/local/lib/python3.10/dist-packages (from google-auth<3,>=1.6.3->tensorboard<2.13,>=2.12->tensorflow) (5.3.0)\n",
            "Requirement already satisfied: pyasn1-modules>=0.2.1 in /usr/local/lib/python3.10/dist-packages (from google-auth<3,>=1.6.3->tensorboard<2.13,>=2.12->tensorflow) (0.3.0)\n",
            "Requirement already satisfied: rsa<5,>=3.1.4 in /usr/local/lib/python3.10/dist-packages (from google-auth<3,>=1.6.3->tensorboard<2.13,>=2.12->tensorflow) (4.9)\n",
            "Requirement already satisfied: requests-oauthlib>=0.7.0 in /usr/local/lib/python3.10/dist-packages (from google-auth-oauthlib<1.1,>=0.5->tensorboard<2.13,>=2.12->tensorflow) (1.3.1)\n",
            "Requirement already satisfied: urllib3<1.27,>=1.21.1 in /usr/local/lib/python3.10/dist-packages (from requests<3,>=2.21.0->tensorboard<2.13,>=2.12->tensorflow) (1.26.15)\n",
            "Requirement already satisfied: certifi>=2017.4.17 in /usr/local/lib/python3.10/dist-packages (from requests<3,>=2.21.0->tensorboard<2.13,>=2.12->tensorflow) (2022.12.7)\n",
            "Requirement already satisfied: charset-normalizer~=2.0.0 in /usr/local/lib/python3.10/dist-packages (from requests<3,>=2.21.0->tensorboard<2.13,>=2.12->tensorflow) (2.0.12)\n",
            "Requirement already satisfied: idna<4,>=2.5 in /usr/local/lib/python3.10/dist-packages (from requests<3,>=2.21.0->tensorboard<2.13,>=2.12->tensorflow) (3.4)\n",
            "Requirement already satisfied: MarkupSafe>=2.1.1 in /usr/local/lib/python3.10/dist-packages (from werkzeug>=1.0.1->tensorboard<2.13,>=2.12->tensorflow) (2.1.2)\n",
            "Requirement already satisfied: pyasn1<0.6.0,>=0.4.6 in /usr/local/lib/python3.10/dist-packages (from pyasn1-modules>=0.2.1->google-auth<3,>=1.6.3->tensorboard<2.13,>=2.12->tensorflow) (0.5.0)\n",
            "Requirement already satisfied: oauthlib>=3.0.0 in /usr/local/lib/python3.10/dist-packages (from requests-oauthlib>=0.7.0->google-auth-oauthlib<1.1,>=0.5->tensorboard<2.13,>=2.12->tensorflow) (3.2.2)\n",
            "Looking in indexes: https://pypi.org/simple, https://us-python.pkg.dev/colab-wheels/public/simple/\n",
            "Requirement already satisfied: scikit-learn in /usr/local/lib/python3.10/dist-packages (1.2.2)\n",
            "Requirement already satisfied: numpy>=1.17.3 in /usr/local/lib/python3.10/dist-packages (from scikit-learn) (1.22.4)\n",
            "Requirement already satisfied: scipy>=1.3.2 in /usr/local/lib/python3.10/dist-packages (from scikit-learn) (1.10.1)\n",
            "Requirement already satisfied: joblib>=1.1.1 in /usr/local/lib/python3.10/dist-packages (from scikit-learn) (1.2.0)\n",
            "Requirement already satisfied: threadpoolctl>=2.0.0 in /usr/local/lib/python3.10/dist-packages (from scikit-learn) (3.1.0)\n"
          ]
        }
      ],
      "source": [
        "!pip install tensorflow\n",
        "!pip install scikit-learn"
      ]
    },
    {
      "cell_type": "code",
      "execution_count": null,
      "metadata": {
        "colab": {
          "base_uri": "https://localhost:8080/"
        },
        "id": "QYdt42PLp05W",
        "outputId": "6f9fda1e-4ec3-43f6-9882-c654e4d62ffd"
      },
      "outputs": [
        {
          "output_type": "stream",
          "name": "stdout",
          "text": [
            "Epoch 1/5\n",
            "1875/1875 [==============================] - 17s 9ms/step - loss: 0.2617 - accuracy: 0.9256 - val_loss: 0.1418 - val_accuracy: 0.9565\n",
            "Epoch 2/5\n",
            "1875/1875 [==============================] - 10s 6ms/step - loss: 0.1175 - accuracy: 0.9652 - val_loss: 0.1012 - val_accuracy: 0.9710\n",
            "Epoch 3/5\n",
            "1875/1875 [==============================] - 8s 4ms/step - loss: 0.0811 - accuracy: 0.9759 - val_loss: 0.0856 - val_accuracy: 0.9743\n",
            "Epoch 4/5\n",
            "1875/1875 [==============================] - 10s 6ms/step - loss: 0.0603 - accuracy: 0.9818 - val_loss: 0.0844 - val_accuracy: 0.9749\n",
            "Epoch 5/5\n",
            "1875/1875 [==============================] - 10s 6ms/step - loss: 0.0478 - accuracy: 0.9849 - val_loss: 0.0766 - val_accuracy: 0.9768\n",
            "313/313 [==============================] - 1s 3ms/step - loss: 0.0766 - accuracy: 0.9768\n",
            "Test loss: 0.07660061866044998\n",
            "Test accuracy: 0.9768000245094299\n",
            "1/1 [==============================] - 0s 100ms/step\n",
            "Predicted labels: [7, 2, 1, 0, 4, 1, 4, 9, 5, 9]\n"
          ]
        }
      ],
      "source": [
        "import tensorflow as tf\n",
        "from tensorflow.keras.datasets import mnist\n",
        "\n",
        "# Load the MNIST dataset\n",
        "(x_train, y_train), (x_test, y_test) = mnist.load_data()\n",
        "\n",
        "# Normalize the pixel values between 0 and 1\n",
        "x_train = x_train / 255.0\n",
        "x_test = x_test / 255.0\n",
        "\n",
        "# Define the model architecture\n",
        "model = tf.keras.Sequential([\n",
        "    tf.keras.layers.Flatten(input_shape=(28, 28)),\n",
        "    tf.keras.layers.Dense(128, activation='relu'),\n",
        "    tf.keras.layers.Dense(10, activation='softmax')\n",
        "])\n",
        "\n",
        "# Compile the model\n",
        "model.compile(optimizer='adam', loss='sparse_categorical_crossentropy', metrics=['accuracy'])\n",
        "\n",
        "# Train the model\n",
        "epochs = 5\n",
        "model.fit(x_train, y_train, epochs=epochs, validation_data=(x_test, y_test))\n",
        "\n",
        "# Evaluate the model\n",
        "loss, accuracy = model.evaluate(x_test, y_test)\n",
        "print(f'Test loss: {loss}')\n",
        "print(f'Test accuracy: {accuracy}')\n",
        "\n",
        "# Save the trained model\n",
        "model.save('mnist_model.h5')\n",
        "\n",
        "# Load the saved model\n",
        "loaded_model = tf.keras.models.load_model('mnist_model.h5')\n",
        "\n",
        "# Make predictions using the loaded model\n",
        "predictions = loaded_model.predict(x_test[:10])\n",
        "predicted_labels = [tf.argmax(prediction).numpy() for prediction in predictions]\n",
        "print(f'Predicted labels: {predicted_labels}')"
      ]
    },
    {
      "cell_type": "markdown",
      "source": [
        "# Deploy the model"
      ],
      "metadata": {
        "id": "T9K_qE3ol5De"
      }
    },
    {
      "cell_type": "markdown",
      "source": [
        "### Creating the App Directory\n",
        "\n",
        "The first step is to create a directory called \"app\" using the `mkdir` command and navigate into it using `%cd`"
      ],
      "metadata": {
        "id": "TR7Ped05Crli"
      }
    },
    {
      "cell_type": "code",
      "source": [
        "!mkdir app\n",
        "%cd app"
      ],
      "metadata": {
        "colab": {
          "base_uri": "https://localhost:8080/"
        },
        "id": "aErgEsGs8SYA",
        "outputId": "5d027129-b85b-4491-d60a-dc1d8664f83d"
      },
      "execution_count": null,
      "outputs": [
        {
          "output_type": "stream",
          "name": "stdout",
          "text": [
            "mkdir: cannot create directory ‘app’: File exists\n",
            "/content/app\n"
          ]
        }
      ]
    },
    {
      "cell_type": "markdown",
      "source": [
        "### Preparing the Images\n",
        "Now, we load the MNIST dataset and select images with labels 0 and 1 to create sample images for testing our Gradio interface:"
      ],
      "metadata": {
        "id": "sitJGMHUCzyu"
      }
    },
    {
      "cell_type": "code",
      "source": [
        "import numpy as np\n",
        "from PIL import Image\n",
        "# Load MNIST dataset\n",
        "(_, _), (x_test, y_test) = mnist.load_data()\n",
        "\n",
        "# Find the indices of images with label 0 and 1\n",
        "zero_indices = np.where(y_test == 0)[0]\n",
        "one_indices = np.where(y_test == 1)[0]\n",
        "\n",
        "# Convert the images to PIL format and save as 0.jpg and 1.jpg\n",
        "Image.fromarray(x_test[zero_indices[0]]).save(\"0.jpg\")\n",
        "Image.fromarray(x_test[one_indices[0]]).save(\"1.jpg\")"
      ],
      "metadata": {
        "id": "eLsXBRLzOEPN"
      },
      "execution_count": null,
      "outputs": []
    },
    {
      "cell_type": "markdown",
      "source": [
        "### Creating the Requirements File\n",
        "Then, we create a file called requirements.txt and write the required Python packages:"
      ],
      "metadata": {
        "id": "u-bZZtyKDAVv"
      }
    },
    {
      "cell_type": "code",
      "source": [
        "%%writefile requirements.txt\n",
        "tensorflow\n",
        "gradio"
      ],
      "metadata": {
        "colab": {
          "base_uri": "https://localhost:8080/"
        },
        "id": "j3U39lmNG32b",
        "outputId": "6ba9799d-5db3-4871-b1aa-360a5b586484"
      },
      "execution_count": null,
      "outputs": [
        {
          "output_type": "stream",
          "name": "stdout",
          "text": [
            "Overwriting requirements.txt\n"
          ]
        }
      ]
    },
    {
      "cell_type": "markdown",
      "source": [
        "The requirements.txt file specifies the dependencies for our project, which in this case are TensorFlow and Gradio."
      ],
      "metadata": {
        "id": "2uenFmUDDSBF"
      }
    },
    {
      "cell_type": "markdown",
      "source": [
        "### Creating the Main Script\n",
        "In this cell, we create a file called main.py and write the code for the main script that will be executed by the Gradio server:"
      ],
      "metadata": {
        "id": "L7xsWmd5DT1B"
      }
    },
    {
      "cell_type": "code",
      "source": [
        "%%writefile main.py\n",
        "import gradio as gr\n",
        "import tensorflow as tf\n",
        "import numpy as np\n",
        "from PIL import Image\n",
        "\n",
        "def predict(img_arr):\n",
        "  # Preprocess the image before passing it to the model\n",
        "  img_arr = tf.expand_dims(img_arr, 0)\n",
        "  img_arr = img_arr[:, :, :, 0]  # Keep only the first channel (grayscale)\n",
        "\n",
        "  # Load the trained model\n",
        "  loaded_model = tf.keras.models.load_model('mnist_model.h5')\n",
        "\n",
        "  # Make predictions\n",
        "  predictions = loaded_model.predict(img_arr)\n",
        "  predicted_label = tf.argmax(predictions[0]).numpy()\n",
        "\n",
        "  return str(predicted_label)\n",
        "\n",
        "gr.Interface(fn=predict,\n",
        "             inputs=\"image\",\n",
        "             outputs=\"label\",\n",
        "             examples=[[\"0.jpg\"], [\"1.jpg\"]]\n",
        ").launch(server_name=\"0.0.0.0\", server_port=8080)"
      ],
      "metadata": {
        "colab": {
          "base_uri": "https://localhost:8080/"
        },
        "id": "iexe1rYCG_1J",
        "outputId": "7dd7614f-a448-49d3-eb68-fa4342882a39"
      },
      "execution_count": null,
      "outputs": [
        {
          "output_type": "stream",
          "name": "stdout",
          "text": [
            "Overwriting main.py\n"
          ]
        }
      ]
    },
    {
      "cell_type": "markdown",
      "source": [
        "This script defines a function predict that takes an image array as input, preprocesses it, loads a trained model from a file named \"mnist_model.h5\", and makes predictions on the image. The Gradio interface is then created using this function, specifying that the input is an image and the output is a label. The examples parameter provides the sample images we saved earlier."
      ],
      "metadata": {
        "id": "e94TV8PwDgzv"
      }
    },
    {
      "cell_type": "markdown",
      "source": [
        "###  Deploying the Service\n",
        "Finally, we will define and deploy the Gradio service using the ServiceFoundry library:\n",
        "\n",
        "In the code we define the service using the Service class. It encapsulates the configuration details of the service, such as its name, image build specifications, ports, and resource requirements.\n",
        "\n",
        "* **name:** Specifies the name of the service, which in this case is set as \"gradio\".\n",
        "* **image:** Defines the build specifications for the Docker image used by the service. Here, we use the PythonBuild class to specify that the image should be built using Python. The command parameter sets the command to execute when running the container, which is python main.py. The requirements_path parameter specifies the path to the requirements.txt file containing the required Python packages.\n",
        "* **ports:** Specifies the ports to be exposed by the service. In this case, we expose port 8080. The host parameter sets the hostname or IP address to bind the port to. Please note that the provided host in the example is specific to the deployment environment.\n",
        "* **resources:** Defines the resource requirements for the service, including memory limits, memory requests, ephemeral storage limits, ephemeral storage requests, CPU limits, and CPU requests. These parameters ensure that the service is allocated the necessary resources for proper execution."
      ],
      "metadata": {
        "id": "9f5EJ2JhDnmm"
      }
    },
    {
      "cell_type": "code",
      "execution_count": null,
      "metadata": {
        "colab": {
          "base_uri": "https://localhost:8080/",
          "height": 1000,
          "referenced_widgets": [
            "28802487d04c417bbf40f486a42d54e4",
            "e6b9a03a470845e995b2b7ac6afb41c6"
          ]
        },
        "id": "ECv9M_Baq-Cy",
        "outputId": "cf853dde-2891-411e-a5ad-56cc87f55f37"
      },
      "outputs": [
        {
          "output_type": "stream",
          "name": "stderr",
          "text": [
            "2023-06-22 23:27:02,198 [servicefoundry] WARNING  Did not find Docker locally installed on this system, image will be built remotely. For faster builds it is recommended to install Docker locally. If you always want to build remotely, please set `image.build_source.local_build` to `false` in your YAML spec or equivalently set `image=Build(build_source=LocalSource(local_build=False, ...))` in your `Service` or `Job` definition code.\n",
            "2023-06-22 23:27:02,204 [servicefoundry] INFO     Uploading code for service 'gradio'\n",
            "2023-06-22 23:27:02,208 [servicefoundry] INFO     Archiving contents of dir: '/content/app'\n",
            "2023-06-22 23:27:02,215 [servicefoundry] INFO     Neither `.tfyignore` file found in /content/app nor a valid git repository found. We recommend you to create .tfyignore file and add file patterns to ignore\n",
            "Packaging source code: 1it [00:00,  7.69it/s]\n",
            "2023-06-22 23:27:02,359 [servicefoundry] INFO     Code archive size: '1.04 MiB'\n",
            "Uploading package: 100%|██████████| 1.04M/1.04M [00:00<00:00, 2.93MB/s]\n",
            "2023-06-22 23:27:03,974 [servicefoundry] INFO     🚀 Deployment started for application 'gradio'. Deployment FQN is 'tfy-gcp-standard-usce1:abhi-gcp-ws:gradio:11'.\n",
            "2023-06-22 23:27:04,055 [servicefoundry] INFO     You can track the progress below or on the dashboard:- 'https://app.devtest.truefoundry.tech/applications/clj7oxtvh08px1hgubp735gvc?tab=deployments'\n",
            "You can press Ctrl + C to exit the tailing of build logs and deployment will continue on the server\n"
          ]
        },
        {
          "output_type": "display_data",
          "data": {
            "text/plain": [
              "Output()"
            ],
            "application/vnd.jupyter.widget-view+json": {
              "version_major": 2,
              "version_minor": 0,
              "model_id": "28802487d04c417bbf40f486a42d54e4"
            }
          },
          "metadata": {}
        },
        {
          "output_type": "stream",
          "name": "stderr",
          "text": [
            "2023-06-22 23:27:04,304 [servicefoundry] INFO     State: 'INITIALIZED'\n",
            "2023-06-22 23:27:14,524 [servicefoundry] INFO     State: 'BUILDING'\n",
            "2023-06-22 23:27:14,707 [servicefoundry] INFO     Tailing build logs for 'gradio'\n"
          ]
        },
        {
          "output_type": "display_data",
          "data": {
            "text/plain": [
              "Waiting for the task to start...\n"
            ],
            "text/html": [
              "<pre style=\"white-space:pre;overflow-x:auto;line-height:normal;font-family:Menlo,'DejaVu Sans Mono',consolas,'Courier New',monospace\">Waiting for the task to start...\n",
              "</pre>\n"
            ]
          },
          "metadata": {}
        },
        {
          "output_type": "display_data",
          "data": {
            "text/plain": [
              "[2023-06-22T23:27:19.485546+00:00] \u001b[36m[Start]\u001b[0m Downloading source code from remote source\n"
            ],
            "text/html": [
              "<pre style=\"white-space:pre;overflow-x:auto;line-height:normal;font-family:Menlo,'DejaVu Sans Mono',consolas,'Courier New',monospace\">[2023-06-22T23:27:19.485546+00:00] <span style=\"color: #008080; text-decoration-color: #008080\">[Start]</span> Downloading source code from remote source\n",
              "</pre>\n"
            ]
          },
          "metadata": {}
        },
        {
          "output_type": "display_data",
          "data": {
            "text/plain": [
              "[2023-06-22T23:27:19.776496+00:00] \u001b[32m[Done]\u001b[0m Download code completed\n"
            ],
            "text/html": [
              "<pre style=\"white-space:pre;overflow-x:auto;line-height:normal;font-family:Menlo,'DejaVu Sans Mono',consolas,'Courier New',monospace\">[2023-06-22T23:27:19.776496+00:00] <span style=\"color: #008000; text-decoration-color: #008000\">[Done]</span> Download code completed\n",
              "</pre>\n"
            ]
          },
          "metadata": {}
        },
        {
          "output_type": "display_data",
          "data": {
            "text/plain": [
              "[2023-06-22T23:27:19.876846+00:00] \u001b[36m[Start]\u001b[0m Building and pushing the docker container. Please find the logs below\n"
            ],
            "text/html": [
              "<pre style=\"white-space:pre;overflow-x:auto;line-height:normal;font-family:Menlo,'DejaVu Sans Mono',consolas,'Courier New',monospace\">[2023-06-22T23:27:19.876846+00:00] <span style=\"color: #008080; text-decoration-color: #008080\">[Start]</span> Building and pushing the docker container. Please find the logs below\n",
              "</pre>\n"
            ]
          },
          "metadata": {}
        },
        {
          "output_type": "display_data",
          "data": {
            "text/plain": [
              "[2023-06-22T23:27:19.876862+00:00] \u001b[36m[==== Docker logs start ====]\u001b[0m\n"
            ],
            "text/html": [
              "<pre style=\"white-space:pre;overflow-x:auto;line-height:normal;font-family:Menlo,'DejaVu Sans Mono',consolas,'Courier New',monospace\">[2023-06-22T23:27:19.876862+00:00] <span style=\"color: #008080; text-decoration-color: #008080\">[==== Docker logs start ====]</span>\n",
              "</pre>\n"
            ]
          },
          "metadata": {}
        },
        {
          "output_type": "display_data",
          "data": {
            "text/plain": [
              "[2023-06-22T23:27:21.678412+00:00] [build] Servicefoundry version: 0.9.6\n"
            ],
            "text/html": [
              "<pre style=\"white-space:pre;overflow-x:auto;line-height:normal;font-family:Menlo,'DejaVu Sans Mono',consolas,'Courier New',monospace\">[2023-06-22T23:27:21.678412+00:00] [build] Servicefoundry version: 0.9.6\n",
              "</pre>\n"
            ]
          },
          "metadata": {}
        },
        {
          "output_type": "display_data",
          "data": {
            "text/plain": [
              "[2023-06-22T23:27:21.680208+00:00] [06/22/23 23:27:21] INFO     Dockerfile content:-\n"
            ],
            "text/html": [
              "<pre style=\"white-space:pre;overflow-x:auto;line-height:normal;font-family:Menlo,'DejaVu Sans Mono',consolas,'Courier New',monospace\">[2023-06-22T23:27:21.680208+00:00] [06/22/23 23:27:21] INFO     Dockerfile content:-\n",
              "</pre>\n"
            ]
          },
          "metadata": {}
        },
        {
          "output_type": "display_data",
          "data": {
            "text/plain": [
              "[2023-06-22T23:27:21.682131+00:00] INFO\n"
            ],
            "text/html": [
              "<pre style=\"white-space:pre;overflow-x:auto;line-height:normal;font-family:Menlo,'DejaVu Sans Mono',consolas,'Courier New',monospace\">[2023-06-22T23:27:21.682131+00:00] INFO\n",
              "</pre>\n"
            ]
          },
          "metadata": {}
        },
        {
          "output_type": "display_data",
          "data": {
            "text/plain": [
              "[2023-06-22T23:27:21.682141+00:00] FROM --platform=linux/amd64 python:3.9\n"
            ],
            "text/html": [
              "<pre style=\"white-space:pre;overflow-x:auto;line-height:normal;font-family:Menlo,'DejaVu Sans Mono',consolas,'Courier New',monospace\">[2023-06-22T23:27:21.682141+00:00] FROM --platform=linux/amd64 python:3.9\n",
              "</pre>\n"
            ]
          },
          "metadata": {}
        },
        {
          "output_type": "display_data",
          "data": {
            "text/plain": [
              "[2023-06-22T23:27:21.682145+00:00] ENV PATH=/virtualenvs/venv/bin:$PATH\n"
            ],
            "text/html": [
              "<pre style=\"white-space:pre;overflow-x:auto;line-height:normal;font-family:Menlo,'DejaVu Sans Mono',consolas,'Courier New',monospace\">[2023-06-22T23:27:21.682145+00:00] ENV PATH=/virtualenvs/venv/bin:$PATH\n",
              "</pre>\n"
            ]
          },
          "metadata": {}
        },
        {
          "output_type": "display_data",
          "data": {
            "text/plain": [
              "[2023-06-22T23:27:21.682148+00:00] RUN python -m venv /virtualenvs/venv/\n"
            ],
            "text/html": [
              "<pre style=\"white-space:pre;overflow-x:auto;line-height:normal;font-family:Menlo,'DejaVu Sans Mono',consolas,'Courier New',monospace\">[2023-06-22T23:27:21.682148+00:00] RUN python -m venv /virtualenvs/venv/\n",
              "</pre>\n"
            ]
          },
          "metadata": {}
        },
        {
          "output_type": "display_data",
          "data": {
            "text/plain": [
              "[2023-06-22T23:27:21.682150+00:00] \n"
            ],
            "text/html": [
              "<pre style=\"white-space:pre;overflow-x:auto;line-height:normal;font-family:Menlo,'DejaVu Sans Mono',consolas,'Courier New',monospace\">[2023-06-22T23:27:21.682150+00:00] \n",
              "</pre>\n"
            ]
          },
          "metadata": {}
        },
        {
          "output_type": "display_data",
          "data": {
            "text/plain": [
              "[2023-06-22T23:27:21.682155+00:00] COPY requirements.txt /tmp/requirements.txt\n"
            ],
            "text/html": [
              "<pre style=\"white-space:pre;overflow-x:auto;line-height:normal;font-family:Menlo,'DejaVu Sans Mono',consolas,'Courier New',monospace\">[2023-06-22T23:27:21.682155+00:00] COPY requirements.txt /tmp/requirements.txt\n",
              "</pre>\n"
            ]
          },
          "metadata": {}
        },
        {
          "output_type": "display_data",
          "data": {
            "text/plain": [
              "[2023-06-22T23:27:21.682157+00:00] \n"
            ],
            "text/html": [
              "<pre style=\"white-space:pre;overflow-x:auto;line-height:normal;font-family:Menlo,'DejaVu Sans Mono',consolas,'Courier New',monospace\">[2023-06-22T23:27:21.682157+00:00] \n",
              "</pre>\n"
            ]
          },
          "metadata": {}
        },
        {
          "output_type": "display_data",
          "data": {
            "text/plain": [
              "[2023-06-22T23:27:21.682161+00:00] && python -m pip install --use-pep517\n"
            ],
            "text/html": [
              "<pre style=\"white-space:pre;overflow-x:auto;line-height:normal;font-family:Menlo,'DejaVu Sans Mono',consolas,'Courier New',monospace\">[2023-06-22T23:27:21.682161+00:00] &amp;&amp; python -m pip install --use-pep517\n",
              "</pre>\n"
            ]
          },
          "metadata": {}
        },
        {
          "output_type": "display_data",
          "data": {
            "text/plain": [
              "[2023-06-22T23:27:21.682163+00:00] --no-cache-dir -r /tmp/requirements.txt\n"
            ],
            "text/html": [
              "<pre style=\"white-space:pre;overflow-x:auto;line-height:normal;font-family:Menlo,'DejaVu Sans Mono',consolas,'Courier New',monospace\">[2023-06-22T23:27:21.682163+00:00] --no-cache-dir -r /tmp/requirements.txt\n",
              "</pre>\n"
            ]
          },
          "metadata": {}
        },
        {
          "output_type": "display_data",
          "data": {
            "text/plain": [
              "[2023-06-22T23:27:21.682165+00:00] \n"
            ],
            "text/html": [
              "<pre style=\"white-space:pre;overflow-x:auto;line-height:normal;font-family:Menlo,'DejaVu Sans Mono',consolas,'Courier New',monospace\">[2023-06-22T23:27:21.682165+00:00] \n",
              "</pre>\n"
            ]
          },
          "metadata": {}
        },
        {
          "output_type": "display_data",
          "data": {
            "text/plain": [
              "[2023-06-22T23:27:21.682168+00:00] COPY . /app\n"
            ],
            "text/html": [
              "<pre style=\"white-space:pre;overflow-x:auto;line-height:normal;font-family:Menlo,'DejaVu Sans Mono',consolas,'Courier New',monospace\">[2023-06-22T23:27:21.682168+00:00] COPY . /app\n",
              "</pre>\n"
            ]
          },
          "metadata": {}
        },
        {
          "output_type": "display_data",
          "data": {
            "text/plain": [
              "[2023-06-22T23:27:21.682172+00:00] ENTRYPOINT python main.py\n"
            ],
            "text/html": [
              "<pre style=\"white-space:pre;overflow-x:auto;line-height:normal;font-family:Menlo,'DejaVu Sans Mono',consolas,'Courier New',monospace\">[2023-06-22T23:27:21.682172+00:00] ENTRYPOINT python main.py\n",
              "</pre>\n"
            ]
          },
          "metadata": {}
        },
        {
          "output_type": "display_data",
          "data": {
            "text/plain": [
              "[2023-06-22T23:27:21.682174+00:00] \n"
            ],
            "text/html": [
              "<pre style=\"white-space:pre;overflow-x:auto;line-height:normal;font-family:Menlo,'DejaVu Sans Mono',consolas,'Courier New',monospace\">[2023-06-22T23:27:21.682174+00:00] \n",
              "</pre>\n"
            ]
          },
          "metadata": {}
        },
        {
          "output_type": "display_data",
          "data": {
            "text/plain": [
              "[2023-06-22T23:27:21.682170+00:00] WORKDIR /app\n"
            ],
            "text/html": [
              "<pre style=\"white-space:pre;overflow-x:auto;line-height:normal;font-family:Menlo,'DejaVu Sans Mono',consolas,'Courier New',monospace\">[2023-06-22T23:27:21.682170+00:00] WORKDIR /app\n",
              "</pre>\n"
            ]
          },
          "metadata": {}
        },
        {
          "output_type": "display_data",
          "data": {
            "text/plain": [
              "[2023-06-22T23:27:21.682922+00:00] INFO     Starting docker build...\n"
            ],
            "text/html": [
              "<pre style=\"white-space:pre;overflow-x:auto;line-height:normal;font-family:Menlo,'DejaVu Sans Mono',consolas,'Courier New',monospace\">[2023-06-22T23:27:21.682922+00:00] INFO     Starting docker build...\n",
              "</pre>\n"
            ]
          },
          "metadata": {}
        },
        {
          "output_type": "display_data",
          "data": {
            "text/plain": [
              "[2023-06-22T23:27:22.808694+00:00] #1 DONE 0.3s\n"
            ],
            "text/html": [
              "<pre style=\"white-space:pre;overflow-x:auto;line-height:normal;font-family:Menlo,'DejaVu Sans Mono',consolas,'Courier New',monospace\">[2023-06-22T23:27:22.808694+00:00] #1 DONE 0.3s\n",
              "</pre>\n"
            ]
          },
          "metadata": {}
        },
        {
          "output_type": "display_data",
          "data": {
            "text/plain": [
              "[2023-06-22T23:27:22.808709+00:00] \n"
            ],
            "text/html": [
              "<pre style=\"white-space:pre;overflow-x:auto;line-height:normal;font-family:Menlo,'DejaVu Sans Mono',consolas,'Courier New',monospace\">[2023-06-22T23:27:22.808709+00:00] \n",
              "</pre>\n"
            ]
          },
          "metadata": {}
        },
        {
          "output_type": "display_data",
          "data": {
            "text/plain": [
              "[2023-06-22T23:27:22.808714+00:00] #2 [depot] connecting to amd64 builder\n"
            ],
            "text/html": [
              "<pre style=\"white-space:pre;overflow-x:auto;line-height:normal;font-family:Menlo,'DejaVu Sans Mono',consolas,'Courier New',monospace\">[2023-06-22T23:27:22.808714+00:00] #2 [depot] connecting to amd64 builder\n",
              "</pre>\n"
            ]
          },
          "metadata": {}
        },
        {
          "output_type": "display_data",
          "data": {
            "text/plain": [
              "[2023-06-22T23:27:22.357358+00:00] #1 [depot] launching amd64 builder\n"
            ],
            "text/html": [
              "<pre style=\"white-space:pre;overflow-x:auto;line-height:normal;font-family:Menlo,'DejaVu Sans Mono',consolas,'Courier New',monospace\">[2023-06-22T23:27:22.357358+00:00] #1 [depot] launching amd64 builder\n",
              "</pre>\n"
            ]
          },
          "metadata": {}
        },
        {
          "output_type": "display_data",
          "data": {
            "text/plain": [
              "[2023-06-22T23:27:23.359904+00:00] \n"
            ],
            "text/html": [
              "<pre style=\"white-space:pre;overflow-x:auto;line-height:normal;font-family:Menlo,'DejaVu Sans Mono',consolas,'Courier New',monospace\">[2023-06-22T23:27:23.359904+00:00] \n",
              "</pre>\n"
            ]
          },
          "metadata": {}
        },
        {
          "output_type": "display_data",
          "data": {
            "text/plain": [
              "[2023-06-22T23:27:23.359922+00:00] #3 [internal] load build definition from Dockerfile\n"
            ],
            "text/html": [
              "<pre style=\"white-space:pre;overflow-x:auto;line-height:normal;font-family:Menlo,'DejaVu Sans Mono',consolas,'Courier New',monospace\">[2023-06-22T23:27:23.359922+00:00] #3 [internal] load build definition from Dockerfile\n",
              "</pre>\n"
            ]
          },
          "metadata": {}
        },
        {
          "output_type": "display_data",
          "data": {
            "text/plain": [
              "[2023-06-22T23:27:23.359926+00:00] #3 transferring dockerfile:\n"
            ],
            "text/html": [
              "<pre style=\"white-space:pre;overflow-x:auto;line-height:normal;font-family:Menlo,'DejaVu Sans Mono',consolas,'Courier New',monospace\">[2023-06-22T23:27:23.359926+00:00] #3 transferring dockerfile:\n",
              "</pre>\n"
            ]
          },
          "metadata": {}
        },
        {
          "output_type": "display_data",
          "data": {
            "text/plain": [
              "[2023-06-22T23:27:23.605198+00:00] \n"
            ],
            "text/html": [
              "<pre style=\"white-space:pre;overflow-x:auto;line-height:normal;font-family:Menlo,'DejaVu Sans Mono',consolas,'Courier New',monospace\">[2023-06-22T23:27:23.605198+00:00] \n",
              "</pre>\n"
            ]
          },
          "metadata": {}
        },
        {
          "output_type": "display_data",
          "data": {
            "text/plain": [
              "[2023-06-22T23:27:23.109221+00:00] #2 DONE 0.3s\n"
            ],
            "text/html": [
              "<pre style=\"white-space:pre;overflow-x:auto;line-height:normal;font-family:Menlo,'DejaVu Sans Mono',consolas,'Courier New',monospace\">[2023-06-22T23:27:23.109221+00:00] #2 DONE 0.3s\n",
              "</pre>\n"
            ]
          },
          "metadata": {}
        },
        {
          "output_type": "display_data",
          "data": {
            "text/plain": [
              "[2023-06-22T23:27:23.605138+00:00] #3 transferring dockerfile: 381B 0.2s done\n"
            ],
            "text/html": [
              "<pre style=\"white-space:pre;overflow-x:auto;line-height:normal;font-family:Menlo,'DejaVu Sans Mono',consolas,'Courier New',monospace\">[2023-06-22T23:27:23.605138+00:00] #3 transferring dockerfile: 381B 0.2s done\n",
              "</pre>\n"
            ]
          },
          "metadata": {}
        },
        {
          "output_type": "display_data",
          "data": {
            "text/plain": [
              "[2023-06-22T23:27:23.605190+00:00] #3 DONE 0.3s\n"
            ],
            "text/html": [
              "<pre style=\"white-space:pre;overflow-x:auto;line-height:normal;font-family:Menlo,'DejaVu Sans Mono',consolas,'Courier New',monospace\">[2023-06-22T23:27:23.605190+00:00] #3 DONE 0.3s\n",
              "</pre>\n"
            ]
          },
          "metadata": {}
        },
        {
          "output_type": "display_data",
          "data": {
            "text/plain": [
              "[2023-06-22T23:27:23.605206+00:00] #4 [internal] load .dockerignore\n"
            ],
            "text/html": [
              "<pre style=\"white-space:pre;overflow-x:auto;line-height:normal;font-family:Menlo,'DejaVu Sans Mono',consolas,'Courier New',monospace\">[2023-06-22T23:27:23.605206+00:00] #4 [internal] load .dockerignore\n",
              "</pre>\n"
            ]
          },
          "metadata": {}
        },
        {
          "output_type": "display_data",
          "data": {
            "text/plain": [
              "[2023-06-22T23:27:23.755269+00:00] \n"
            ],
            "text/html": [
              "<pre style=\"white-space:pre;overflow-x:auto;line-height:normal;font-family:Menlo,'DejaVu Sans Mono',consolas,'Courier New',monospace\">[2023-06-22T23:27:23.755269+00:00] \n",
              "</pre>\n"
            ]
          },
          "metadata": {}
        },
        {
          "output_type": "display_data",
          "data": {
            "text/plain": [
              "[2023-06-22T23:27:23.605218+00:00] #4 DONE 0.2s\n"
            ],
            "text/html": [
              "<pre style=\"white-space:pre;overflow-x:auto;line-height:normal;font-family:Menlo,'DejaVu Sans Mono',consolas,'Courier New',monospace\">[2023-06-22T23:27:23.605218+00:00] #4 DONE 0.2s\n",
              "</pre>\n"
            ]
          },
          "metadata": {}
        },
        {
          "output_type": "display_data",
          "data": {
            "text/plain": [
              "[2023-06-22T23:27:23.755440+00:00] #5 [internal] load metadata for docker.io/library/python:3.9\n"
            ],
            "text/html": [
              "<pre style=\"white-space:pre;overflow-x:auto;line-height:normal;font-family:Menlo,'DejaVu Sans Mono',consolas,'Courier New',monospace\">[2023-06-22T23:27:23.755440+00:00] #5 [internal] load metadata for docker.io/library/python:3.9\n",
              "</pre>\n"
            ]
          },
          "metadata": {}
        },
        {
          "output_type": "display_data",
          "data": {
            "text/plain": [
              "[2023-06-22T23:27:23.906346+00:00] #5 ...\n"
            ],
            "text/html": [
              "<pre style=\"white-space:pre;overflow-x:auto;line-height:normal;font-family:Menlo,'DejaVu Sans Mono',consolas,'Courier New',monospace\">[2023-06-22T23:27:23.906346+00:00] #5 ...\n",
              "</pre>\n"
            ]
          },
          "metadata": {}
        },
        {
          "output_type": "display_data",
          "data": {
            "text/plain": [
              "[2023-06-22T23:27:23.906414+00:00] \n"
            ],
            "text/html": [
              "<pre style=\"white-space:pre;overflow-x:auto;line-height:normal;font-family:Menlo,'DejaVu Sans Mono',consolas,'Courier New',monospace\">[2023-06-22T23:27:23.906414+00:00] \n",
              "</pre>\n"
            ]
          },
          "metadata": {}
        },
        {
          "output_type": "display_data",
          "data": {
            "text/plain": [
              "[2023-06-22T23:27:23.906420+00:00] #6 [auth] library/python:pull token for registry-1.docker.io\n"
            ],
            "text/html": [
              "<pre style=\"white-space:pre;overflow-x:auto;line-height:normal;font-family:Menlo,'DejaVu Sans Mono',consolas,'Courier New',monospace\">[2023-06-22T23:27:23.906420+00:00] #6 [auth] library/python:pull token for registry-1.docker.io\n",
              "</pre>\n"
            ]
          },
          "metadata": {}
        },
        {
          "output_type": "display_data",
          "data": {
            "text/plain": [
              "[2023-06-22T23:27:23.906423+00:00] #6 DONE 0.0s\n"
            ],
            "text/html": [
              "<pre style=\"white-space:pre;overflow-x:auto;line-height:normal;font-family:Menlo,'DejaVu Sans Mono',consolas,'Courier New',monospace\">[2023-06-22T23:27:23.906423+00:00] #6 DONE 0.0s\n",
              "</pre>\n"
            ]
          },
          "metadata": {}
        },
        {
          "output_type": "display_data",
          "data": {
            "text/plain": [
              "[2023-06-22T23:27:24.057285+00:00] \n"
            ],
            "text/html": [
              "<pre style=\"white-space:pre;overflow-x:auto;line-height:normal;font-family:Menlo,'DejaVu Sans Mono',consolas,'Courier New',monospace\">[2023-06-22T23:27:24.057285+00:00] \n",
              "</pre>\n"
            ]
          },
          "metadata": {}
        },
        {
          "output_type": "display_data",
          "data": {
            "text/plain": [
              "[2023-06-22T23:27:24.057386+00:00] #5 [internal] load metadata for docker.io/library/python:3.9\n"
            ],
            "text/html": [
              "<pre style=\"white-space:pre;overflow-x:auto;line-height:normal;font-family:Menlo,'DejaVu Sans Mono',consolas,'Courier New',monospace\">[2023-06-22T23:27:24.057386+00:00] #5 [internal] load metadata for docker.io/library/python:3.9\n",
              "</pre>\n"
            ]
          },
          "metadata": {}
        },
        {
          "output_type": "display_data",
          "data": {
            "text/plain": [
              "[2023-06-22T23:27:24.205446+00:00] #5 DONE 0.6s\n"
            ],
            "text/html": [
              "<pre style=\"white-space:pre;overflow-x:auto;line-height:normal;font-family:Menlo,'DejaVu Sans Mono',consolas,'Courier New',monospace\">[2023-06-22T23:27:24.205446+00:00] #5 DONE 0.6s\n",
              "</pre>\n"
            ]
          },
          "metadata": {}
        },
        {
          "output_type": "display_data",
          "data": {
            "text/plain": [
              "[2023-06-22T23:27:24.344900+00:00] \n"
            ],
            "text/html": [
              "<pre style=\"white-space:pre;overflow-x:auto;line-height:normal;font-family:Menlo,'DejaVu Sans Mono',consolas,'Courier New',monospace\">[2023-06-22T23:27:24.344900+00:00] \n",
              "</pre>\n"
            ]
          },
          "metadata": {}
        },
        {
          "output_type": "display_data",
          "data": {
            "text/plain": [
              "[2023-06-22T23:27:24.344979+00:00] #7 [1/6] FROM \n",
              "docker.io/library/python:3.9@sha256:98f018a1afd67f2e17a4abd5bfe09b998734ba7c1ee54780e7ed216f8b8095c3\n"
            ],
            "text/html": [
              "<pre style=\"white-space:pre;overflow-x:auto;line-height:normal;font-family:Menlo,'DejaVu Sans Mono',consolas,'Courier New',monospace\">[2023-06-22T23:27:24.344979+00:00] #7 [1/6] FROM \n",
              "docker.io/library/python:3.9@sha256:98f018a1afd67f2e17a4abd5bfe09b998734ba7c1ee54780e7ed216f8b8095c3\n",
              "</pre>\n"
            ]
          },
          "metadata": {}
        },
        {
          "output_type": "display_data",
          "data": {
            "text/plain": [
              "[2023-06-22T23:27:24.345106+00:00] #7 DONE 0.0s\n"
            ],
            "text/html": [
              "<pre style=\"white-space:pre;overflow-x:auto;line-height:normal;font-family:Menlo,'DejaVu Sans Mono',consolas,'Courier New',monospace\">[2023-06-22T23:27:24.345106+00:00] #7 DONE 0.0s\n",
              "</pre>\n"
            ]
          },
          "metadata": {}
        },
        {
          "output_type": "display_data",
          "data": {
            "text/plain": [
              "[2023-06-22T23:27:24.345161+00:00] \n"
            ],
            "text/html": [
              "<pre style=\"white-space:pre;overflow-x:auto;line-height:normal;font-family:Menlo,'DejaVu Sans Mono',consolas,'Courier New',monospace\">[2023-06-22T23:27:24.345161+00:00] \n",
              "</pre>\n"
            ]
          },
          "metadata": {}
        },
        {
          "output_type": "display_data",
          "data": {
            "text/plain": [
              "[2023-06-22T23:27:24.345045+00:00] #7 resolve \n",
              "docker.io/library/python:3.9@sha256:98f018a1afd67f2e17a4abd5bfe09b998734ba7c1ee54780e7ed216f8b8095c3 0.0s done\n"
            ],
            "text/html": [
              "<pre style=\"white-space:pre;overflow-x:auto;line-height:normal;font-family:Menlo,'DejaVu Sans Mono',consolas,'Courier New',monospace\">[2023-06-22T23:27:24.345045+00:00] #7 resolve \n",
              "docker.io/library/python:3.9@sha256:98f018a1afd67f2e17a4abd5bfe09b998734ba7c1ee54780e7ed216f8b8095c3 0.0s done\n",
              "</pre>\n"
            ]
          },
          "metadata": {}
        },
        {
          "output_type": "display_data",
          "data": {
            "text/plain": [
              "[2023-06-22T23:27:24.345209+00:00] #8 [internal] load build context\n"
            ],
            "text/html": [
              "<pre style=\"white-space:pre;overflow-x:auto;line-height:normal;font-family:Menlo,'DejaVu Sans Mono',consolas,'Courier New',monospace\">[2023-06-22T23:27:24.345209+00:00] #8 [internal] load build context\n",
              "</pre>\n"
            ]
          },
          "metadata": {}
        },
        {
          "output_type": "display_data",
          "data": {
            "text/plain": [
              "[2023-06-22T23:27:25.198787+00:00] #8 transferring context: 1.25MB 0.8s done\n"
            ],
            "text/html": [
              "<pre style=\"white-space:pre;overflow-x:auto;line-height:normal;font-family:Menlo,'DejaVu Sans Mono',consolas,'Courier New',monospace\">[2023-06-22T23:27:25.198787+00:00] #8 transferring context: 1.25MB 0.8s done\n",
              "</pre>\n"
            ]
          },
          "metadata": {}
        },
        {
          "output_type": "display_data",
          "data": {
            "text/plain": [
              "[2023-06-22T23:27:25.198842+00:00] #8 DONE 0.9s\n"
            ],
            "text/html": [
              "<pre style=\"white-space:pre;overflow-x:auto;line-height:normal;font-family:Menlo,'DejaVu Sans Mono',consolas,'Courier New',monospace\">[2023-06-22T23:27:25.198842+00:00] #8 DONE 0.9s\n",
              "</pre>\n"
            ]
          },
          "metadata": {}
        },
        {
          "output_type": "display_data",
          "data": {
            "text/plain": [
              "[2023-06-22T23:27:25.349019+00:00] \n"
            ],
            "text/html": [
              "<pre style=\"white-space:pre;overflow-x:auto;line-height:normal;font-family:Menlo,'DejaVu Sans Mono',consolas,'Courier New',monospace\">[2023-06-22T23:27:25.349019+00:00] \n",
              "</pre>\n"
            ]
          },
          "metadata": {}
        },
        {
          "output_type": "display_data",
          "data": {
            "text/plain": [
              "[2023-06-22T23:27:25.349042+00:00] #9 [2/6] RUN python -m venv /virtualenvs/venv/\n"
            ],
            "text/html": [
              "<pre style=\"white-space:pre;overflow-x:auto;line-height:normal;font-family:Menlo,'DejaVu Sans Mono',consolas,'Courier New',monospace\">[2023-06-22T23:27:25.349042+00:00] #9 [2/6] RUN python -m venv /virtualenvs/venv/\n",
              "</pre>\n"
            ]
          },
          "metadata": {}
        },
        {
          "output_type": "display_data",
          "data": {
            "text/plain": [
              "[2023-06-22T23:27:25.349135+00:00] #9 CACHED\n"
            ],
            "text/html": [
              "<pre style=\"white-space:pre;overflow-x:auto;line-height:normal;font-family:Menlo,'DejaVu Sans Mono',consolas,'Courier New',monospace\">[2023-06-22T23:27:25.349135+00:00] #9 CACHED\n",
              "</pre>\n"
            ]
          },
          "metadata": {}
        },
        {
          "output_type": "display_data",
          "data": {
            "text/plain": [
              "[2023-06-22T23:27:25.349139+00:00] \n"
            ],
            "text/html": [
              "<pre style=\"white-space:pre;overflow-x:auto;line-height:normal;font-family:Menlo,'DejaVu Sans Mono',consolas,'Courier New',monospace\">[2023-06-22T23:27:25.349139+00:00] \n",
              "</pre>\n"
            ]
          },
          "metadata": {}
        },
        {
          "output_type": "display_data",
          "data": {
            "text/plain": [
              "[2023-06-22T23:27:25.349143+00:00] #10 [3/6] COPY requirements.txt /tmp/requirements.txt\n"
            ],
            "text/html": [
              "<pre style=\"white-space:pre;overflow-x:auto;line-height:normal;font-family:Menlo,'DejaVu Sans Mono',consolas,'Courier New',monospace\">[2023-06-22T23:27:25.349143+00:00] #10 [3/6] COPY requirements.txt /tmp/requirements.txt\n",
              "</pre>\n"
            ]
          },
          "metadata": {}
        },
        {
          "output_type": "display_data",
          "data": {
            "text/plain": [
              "[2023-06-22T23:27:25.349145+00:00] #10 CACHED\n"
            ],
            "text/html": [
              "<pre style=\"white-space:pre;overflow-x:auto;line-height:normal;font-family:Menlo,'DejaVu Sans Mono',consolas,'Courier New',monospace\">[2023-06-22T23:27:25.349145+00:00] #10 CACHED\n",
              "</pre>\n"
            ]
          },
          "metadata": {}
        },
        {
          "output_type": "display_data",
          "data": {
            "text/plain": [
              "[2023-06-22T23:27:25.349148+00:00] \n"
            ],
            "text/html": [
              "<pre style=\"white-space:pre;overflow-x:auto;line-height:normal;font-family:Menlo,'DejaVu Sans Mono',consolas,'Courier New',monospace\">[2023-06-22T23:27:25.349148+00:00] \n",
              "</pre>\n"
            ]
          },
          "metadata": {}
        },
        {
          "output_type": "display_data",
          "data": {
            "text/plain": [
              "[2023-06-22T23:27:25.349151+00:00] #11 [4/6] RUN python -m pip install -U pip setuptools wheel && python -m pip \n",
              "install --use-pep517 --no-cache-dir -r /tmp/requirements.txt\n"
            ],
            "text/html": [
              "<pre style=\"white-space:pre;overflow-x:auto;line-height:normal;font-family:Menlo,'DejaVu Sans Mono',consolas,'Courier New',monospace\">[2023-06-22T23:27:25.349151+00:00] #11 [4/6] RUN python -m pip install -U pip setuptools wheel &amp;&amp; python -m pip \n",
              "install --use-pep517 --no-cache-dir -r /tmp/requirements.txt\n",
              "</pre>\n"
            ]
          },
          "metadata": {}
        },
        {
          "output_type": "display_data",
          "data": {
            "text/plain": [
              "[2023-06-22T23:27:25.349155+00:00] #11 CACHED\n"
            ],
            "text/html": [
              "<pre style=\"white-space:pre;overflow-x:auto;line-height:normal;font-family:Menlo,'DejaVu Sans Mono',consolas,'Courier New',monospace\">[2023-06-22T23:27:25.349155+00:00] #11 CACHED\n",
              "</pre>\n"
            ]
          },
          "metadata": {}
        },
        {
          "output_type": "display_data",
          "data": {
            "text/plain": [
              "[2023-06-22T23:27:25.349156+00:00] \n"
            ],
            "text/html": [
              "<pre style=\"white-space:pre;overflow-x:auto;line-height:normal;font-family:Menlo,'DejaVu Sans Mono',consolas,'Courier New',monospace\">[2023-06-22T23:27:25.349156+00:00] \n",
              "</pre>\n"
            ]
          },
          "metadata": {}
        },
        {
          "output_type": "display_data",
          "data": {
            "text/plain": [
              "[2023-06-22T23:27:25.349158+00:00] #12 [5/6] COPY . /app\n"
            ],
            "text/html": [
              "<pre style=\"white-space:pre;overflow-x:auto;line-height:normal;font-family:Menlo,'DejaVu Sans Mono',consolas,'Courier New',monospace\">[2023-06-22T23:27:25.349158+00:00] #12 [5/6] COPY . /app\n",
              "</pre>\n"
            ]
          },
          "metadata": {}
        },
        {
          "output_type": "display_data",
          "data": {
            "text/plain": [
              "[2023-06-22T23:27:25.349159+00:00] #12 CACHED\n"
            ],
            "text/html": [
              "<pre style=\"white-space:pre;overflow-x:auto;line-height:normal;font-family:Menlo,'DejaVu Sans Mono',consolas,'Courier New',monospace\">[2023-06-22T23:27:25.349159+00:00] #12 CACHED\n",
              "</pre>\n"
            ]
          },
          "metadata": {}
        },
        {
          "output_type": "display_data",
          "data": {
            "text/plain": [
              "[2023-06-22T23:27:25.349161+00:00] #13 [6/6] WORKDIR /app\n"
            ],
            "text/html": [
              "<pre style=\"white-space:pre;overflow-x:auto;line-height:normal;font-family:Menlo,'DejaVu Sans Mono',consolas,'Courier New',monospace\">[2023-06-22T23:27:25.349161+00:00] #13 [6/6] WORKDIR /app\n",
              "</pre>\n"
            ]
          },
          "metadata": {}
        },
        {
          "output_type": "display_data",
          "data": {
            "text/plain": [
              "[2023-06-22T23:27:25.349162+00:00] #13 CACHED\n"
            ],
            "text/html": [
              "<pre style=\"white-space:pre;overflow-x:auto;line-height:normal;font-family:Menlo,'DejaVu Sans Mono',consolas,'Courier New',monospace\">[2023-06-22T23:27:25.349162+00:00] #13 CACHED\n",
              "</pre>\n"
            ]
          },
          "metadata": {}
        },
        {
          "output_type": "display_data",
          "data": {
            "text/plain": [
              "[2023-06-22T23:27:25.349163+00:00] \n"
            ],
            "text/html": [
              "<pre style=\"white-space:pre;overflow-x:auto;line-height:normal;font-family:Menlo,'DejaVu Sans Mono',consolas,'Courier New',monospace\">[2023-06-22T23:27:25.349163+00:00] \n",
              "</pre>\n"
            ]
          },
          "metadata": {}
        },
        {
          "output_type": "display_data",
          "data": {
            "text/plain": [
              "[2023-06-22T23:27:25.349164+00:00] #14 [auth] sharing credentials for 526077812922.dkr.ecr.eu-west-1.amazonaws.com\n"
            ],
            "text/html": [
              "<pre style=\"white-space:pre;overflow-x:auto;line-height:normal;font-family:Menlo,'DejaVu Sans Mono',consolas,'Courier New',monospace\">[2023-06-22T23:27:25.349164+00:00] #14 [auth] sharing credentials for 526077812922.dkr.ecr.eu-west-1.amazonaws.com\n",
              "</pre>\n"
            ]
          },
          "metadata": {}
        },
        {
          "output_type": "display_data",
          "data": {
            "text/plain": [
              "[2023-06-22T23:27:25.349165+00:00] #14 DONE 0.0s\n"
            ],
            "text/html": [
              "<pre style=\"white-space:pre;overflow-x:auto;line-height:normal;font-family:Menlo,'DejaVu Sans Mono',consolas,'Courier New',monospace\">[2023-06-22T23:27:25.349165+00:00] #14 DONE 0.0s\n",
              "</pre>\n"
            ]
          },
          "metadata": {}
        },
        {
          "output_type": "display_data",
          "data": {
            "text/plain": [
              "[2023-06-22T23:27:25.349166+00:00] \n"
            ],
            "text/html": [
              "<pre style=\"white-space:pre;overflow-x:auto;line-height:normal;font-family:Menlo,'DejaVu Sans Mono',consolas,'Courier New',monospace\">[2023-06-22T23:27:25.349166+00:00] \n",
              "</pre>\n"
            ]
          },
          "metadata": {}
        },
        {
          "output_type": "display_data",
          "data": {
            "text/plain": [
              "[2023-06-22T23:27:25.349168+00:00] #15 exporting to image\n"
            ],
            "text/html": [
              "<pre style=\"white-space:pre;overflow-x:auto;line-height:normal;font-family:Menlo,'DejaVu Sans Mono',consolas,'Courier New',monospace\">[2023-06-22T23:27:25.349168+00:00] #15 exporting to image\n",
              "</pre>\n"
            ]
          },
          "metadata": {}
        },
        {
          "output_type": "display_data",
          "data": {
            "text/plain": [
              "[2023-06-22T23:27:25.349169+00:00] #15 exporting layers done\n"
            ],
            "text/html": [
              "<pre style=\"white-space:pre;overflow-x:auto;line-height:normal;font-family:Menlo,'DejaVu Sans Mono',consolas,'Courier New',monospace\">[2023-06-22T23:27:25.349169+00:00] #15 exporting layers done\n",
              "</pre>\n"
            ]
          },
          "metadata": {}
        },
        {
          "output_type": "display_data",
          "data": {
            "text/plain": [
              "[2023-06-22T23:27:25.349171+00:00] #15 exporting manifest \n",
              "sha256:833c97c8139db116a4b66374f76311c62023ceb76647d92c26800cb53b73904f done\n"
            ],
            "text/html": [
              "<pre style=\"white-space:pre;overflow-x:auto;line-height:normal;font-family:Menlo,'DejaVu Sans Mono',consolas,'Courier New',monospace\">[2023-06-22T23:27:25.349171+00:00] #15 exporting manifest \n",
              "sha256:833c97c8139db116a4b66374f76311c62023ceb76647d92c26800cb53b73904f done\n",
              "</pre>\n"
            ]
          },
          "metadata": {}
        },
        {
          "output_type": "display_data",
          "data": {
            "text/plain": [
              "[2023-06-22T23:27:25.349174+00:00] #15 exporting manifest list \n",
              "sha256:16776a6596d51429ad1997463309edd554150d07d4a623f1e261c2dfa598eb8c done\n"
            ],
            "text/html": [
              "<pre style=\"white-space:pre;overflow-x:auto;line-height:normal;font-family:Menlo,'DejaVu Sans Mono',consolas,'Courier New',monospace\">[2023-06-22T23:27:25.349174+00:00] #15 exporting manifest list \n",
              "sha256:16776a6596d51429ad1997463309edd554150d07d4a623f1e261c2dfa598eb8c done\n",
              "</pre>\n"
            ]
          },
          "metadata": {}
        },
        {
          "output_type": "display_data",
          "data": {
            "text/plain": [
              "[2023-06-22T23:27:25.349173+00:00] #15 exporting attestation manifest \n",
              "sha256:f741f24f8332327ff8fdfbf0f19a3bffaee09f512d46776626af17a378de7429 0.0s done\n"
            ],
            "text/html": [
              "<pre style=\"white-space:pre;overflow-x:auto;line-height:normal;font-family:Menlo,'DejaVu Sans Mono',consolas,'Courier New',monospace\">[2023-06-22T23:27:25.349173+00:00] #15 exporting attestation manifest \n",
              "sha256:f741f24f8332327ff8fdfbf0f19a3bffaee09f512d46776626af17a378de7429 0.0s done\n",
              "</pre>\n"
            ]
          },
          "metadata": {}
        },
        {
          "output_type": "display_data",
          "data": {
            "text/plain": [
              "[2023-06-22T23:27:27.609443+00:00] #15 pushing layers for \n",
              "526077812922.dkr.ecr.eu-west-1.amazonaws.com/abhi-gcp-ws-gradio-35gvc:11@sha256:16776a6596d51429ad1997463309edd5541\n",
              "50d07d4a623f1e261c2dfa598eb8c 2.3s done\n"
            ],
            "text/html": [
              "<pre style=\"white-space:pre;overflow-x:auto;line-height:normal;font-family:Menlo,'DejaVu Sans Mono',consolas,'Courier New',monospace\">[2023-06-22T23:27:27.609443+00:00] #15 pushing layers for \n",
              "526077812922.dkr.ecr.eu-west-1.amazonaws.com/abhi-gcp-ws-gradio-35gvc:11@sha256:16776a6596d51429ad1997463309edd5541\n",
              "50d07d4a623f1e261c2dfa598eb8c 2.3s done\n",
              "</pre>\n"
            ]
          },
          "metadata": {}
        },
        {
          "output_type": "display_data",
          "data": {
            "text/plain": [
              "[2023-06-22T23:27:27.609479+00:00] #15 pushing manifest for \n",
              "526077812922.dkr.ecr.eu-west-1.amazonaws.com/abhi-gcp-ws-gradio-35gvc:11@sha256:16776a6596d51429ad1997463309edd5541\n",
              "50d07d4a623f1e261c2dfa598eb8c\n"
            ],
            "text/html": [
              "<pre style=\"white-space:pre;overflow-x:auto;line-height:normal;font-family:Menlo,'DejaVu Sans Mono',consolas,'Courier New',monospace\">[2023-06-22T23:27:27.609479+00:00] #15 pushing manifest for \n",
              "526077812922.dkr.ecr.eu-west-1.amazonaws.com/abhi-gcp-ws-gradio-35gvc:11@sha256:16776a6596d51429ad1997463309edd5541\n",
              "50d07d4a623f1e261c2dfa598eb8c\n",
              "</pre>\n"
            ]
          },
          "metadata": {}
        },
        {
          "output_type": "display_data",
          "data": {
            "text/plain": [
              "[2023-06-22T23:27:25.349172+00:00] #15 exporting config \n",
              "sha256:93f03568b8abc936337f76efdef61fa4fdd409a2f6d73d16b111fca1e1b70e46 done\n"
            ],
            "text/html": [
              "<pre style=\"white-space:pre;overflow-x:auto;line-height:normal;font-family:Menlo,'DejaVu Sans Mono',consolas,'Courier New',monospace\">[2023-06-22T23:27:25.349172+00:00] #15 exporting config \n",
              "sha256:93f03568b8abc936337f76efdef61fa4fdd409a2f6d73d16b111fca1e1b70e46 done\n",
              "</pre>\n"
            ]
          },
          "metadata": {}
        },
        {
          "output_type": "display_data",
          "data": {
            "text/plain": [
              "[2023-06-22T23:27:25.349176+00:00] #15 pushing layers for \n",
              "526077812922.dkr.ecr.eu-west-1.amazonaws.com/abhi-gcp-ws-gradio-35gvc:11@sha256:16776a6596d51429ad1997463309edd5541\n",
              "50d07d4a623f1e261c2dfa598eb8c\n"
            ],
            "text/html": [
              "<pre style=\"white-space:pre;overflow-x:auto;line-height:normal;font-family:Menlo,'DejaVu Sans Mono',consolas,'Courier New',monospace\">[2023-06-22T23:27:25.349176+00:00] #15 pushing layers for \n",
              "526077812922.dkr.ecr.eu-west-1.amazonaws.com/abhi-gcp-ws-gradio-35gvc:11@sha256:16776a6596d51429ad1997463309edd5541\n",
              "50d07d4a623f1e261c2dfa598eb8c\n",
              "</pre>\n"
            ]
          },
          "metadata": {}
        },
        {
          "output_type": "display_data",
          "data": {
            "text/plain": [
              "[2023-06-22T23:27:28.459121+00:00] #15 DONE 3.1s\n"
            ],
            "text/html": [
              "<pre style=\"white-space:pre;overflow-x:auto;line-height:normal;font-family:Menlo,'DejaVu Sans Mono',consolas,'Courier New',monospace\">[2023-06-22T23:27:28.459121+00:00] #15 DONE 3.1s\n",
              "</pre>\n"
            ]
          },
          "metadata": {}
        },
        {
          "output_type": "display_data",
          "data": {
            "text/plain": [
              "[2023-06-22T23:27:28.320187+00:00] #15 pushing manifest for \n",
              "526077812922.dkr.ecr.eu-west-1.amazonaws.com/abhi-gcp-ws-gradio-35gvc:11@sha256:16776a6596d51429ad1997463309edd5541\n",
              "50d07d4a623f1e261c2dfa598eb8c 0.8s done\n"
            ],
            "text/html": [
              "<pre style=\"white-space:pre;overflow-x:auto;line-height:normal;font-family:Menlo,'DejaVu Sans Mono',consolas,'Courier New',monospace\">[2023-06-22T23:27:28.320187+00:00] #15 pushing manifest for \n",
              "526077812922.dkr.ecr.eu-west-1.amazonaws.com/abhi-gcp-ws-gradio-35gvc:11@sha256:16776a6596d51429ad1997463309edd5541\n",
              "50d07d4a623f1e261c2dfa598eb8c 0.8s done\n",
              "</pre>\n"
            ]
          },
          "metadata": {}
        },
        {
          "output_type": "display_data",
          "data": {
            "text/plain": [
              "[2023-06-22T23:27:28.777706+00:00] \n"
            ],
            "text/html": [
              "<pre style=\"white-space:pre;overflow-x:auto;line-height:normal;font-family:Menlo,'DejaVu Sans Mono',consolas,'Courier New',monospace\">[2023-06-22T23:27:28.777706+00:00] \n",
              "</pre>\n"
            ]
          },
          "metadata": {}
        },
        {
          "output_type": "display_data",
          "data": {
            "text/plain": [
              "\u001b[1;36m[2023-06-22T23:27:28.777736+00:00] Build Summary\u001b[0m: \n",
              "\u001b[4;39mhttps://depot.dev/orgs/4007kz3jhw/projects/2j4wshdq2v/builds/543vwcrbhz\u001b[0m\n"
            ],
            "text/html": [
              "<pre style=\"white-space:pre;overflow-x:auto;line-height:normal;font-family:Menlo,'DejaVu Sans Mono',consolas,'Courier New',monospace\"><span style=\"color: #008080; text-decoration-color: #008080; font-weight: bold\">[2023-06-22T23:27:28.777736+00:00] Build Summary</span>: \n",
              "<span style=\"color: #000000; text-decoration-color: #000000; text-decoration: underline\">https://depot.dev/orgs/4007kz3jhw/projects/2j4wshdq2v/builds/543vwcrbhz</span>\n",
              "</pre>\n"
            ]
          },
          "metadata": {}
        },
        {
          "output_type": "display_data",
          "data": {
            "text/plain": [
              "[2023-06-22T23:27:28.982175+00:00] \u001b[36m[==== Docker logs end ====]\u001b[0m\n"
            ],
            "text/html": [
              "<pre style=\"white-space:pre;overflow-x:auto;line-height:normal;font-family:Menlo,'DejaVu Sans Mono',consolas,'Courier New',monospace\">[2023-06-22T23:27:28.982175+00:00] <span style=\"color: #008080; text-decoration-color: #008080\">[==== Docker logs end ====]</span>\n",
              "</pre>\n"
            ]
          },
          "metadata": {}
        },
        {
          "output_type": "display_data",
          "data": {
            "text/plain": [
              "[2023-06-22T23:27:28.982237+00:00] \u001b[32m[Done]\u001b[0m Docker image built and pushed\n"
            ],
            "text/html": [
              "<pre style=\"white-space:pre;overflow-x:auto;line-height:normal;font-family:Menlo,'DejaVu Sans Mono',consolas,'Courier New',monospace\">[2023-06-22T23:27:28.982237+00:00] <span style=\"color: #008000; text-decoration-color: #008000\">[Done]</span> Docker image built and pushed\n",
              "</pre>\n"
            ]
          },
          "metadata": {}
        },
        {
          "output_type": "display_data",
          "data": {
            "text/plain": [
              "[2023-06-22T23:27:45.179984+00:00] \u001b[36m[Start]\u001b[0m Sending request to url: \n",
              "https://app.devtest.truefoundry.tech/api/svc/v1/x/builds/clj7rw9x70alv1hgubun2c5g3 with json {\"status\": \n",
              "\"SUCCEEDED\", \"imageUri\": \"526077812922.dkr.ecr.eu-west-1.amazonaws.com/abhi-gcp-ws-gradio-35gvc:11\"}\n"
            ],
            "text/html": [
              "<pre style=\"white-space:pre;overflow-x:auto;line-height:normal;font-family:Menlo,'DejaVu Sans Mono',consolas,'Courier New',monospace\">[2023-06-22T23:27:45.179984+00:00] <span style=\"color: #008080; text-decoration-color: #008080\">[Start]</span> Sending request to url: \n",
              "https://app.devtest.truefoundry.tech/api/svc/v1/x/builds/clj7rw9x70alv1hgubun2c5g3 with json {\"status\": \n",
              "\"SUCCEEDED\", \"imageUri\": \"526077812922.dkr.ecr.eu-west-1.amazonaws.com/abhi-gcp-ws-gradio-35gvc:11\"}\n",
              "</pre>\n"
            ]
          },
          "metadata": {}
        },
        {
          "output_type": "display_data",
          "data": {
            "text/plain": [
              "[2023-06-22T23:27:45.514213+00:00] \u001b[32m[Done]\u001b[0m Kubernetes deployment triggered. It may take 5-10s for the application to\n",
              "be live.\n"
            ],
            "text/html": [
              "<pre style=\"white-space:pre;overflow-x:auto;line-height:normal;font-family:Menlo,'DejaVu Sans Mono',consolas,'Courier New',monospace\">[2023-06-22T23:27:45.514213+00:00] <span style=\"color: #008000; text-decoration-color: #008000\">[Done]</span> Kubernetes deployment triggered. It may take 5-10s for the application to\n",
              "be live.\n",
              "</pre>\n"
            ]
          },
          "metadata": {}
        },
        {
          "output_type": "display_data",
          "data": {
            "text/plain": [
              "[2023-06-22T23:27:45.514195+00:00] \u001b[32m[Done]\u001b[0m Image Built Successfully\n"
            ],
            "text/html": [
              "<pre style=\"white-space:pre;overflow-x:auto;line-height:normal;font-family:Menlo,'DejaVu Sans Mono',consolas,'Courier New',monospace\">[2023-06-22T23:27:45.514195+00:00] <span style=\"color: #008000; text-decoration-color: #008000\">[Done]</span> Image Built Successfully\n",
              "</pre>\n"
            ]
          },
          "metadata": {}
        },
        {
          "output_type": "stream",
          "name": "stderr",
          "text": [
            "2023-06-22 23:28:00,155 [servicefoundry] INFO     State: 'WAITING'\n",
            "2023-06-22 23:28:05,271 [servicefoundry] INFO     State: 'DEPLOY_SUCCESS'\n"
          ]
        },
        {
          "output_type": "display_data",
          "data": {
            "text/plain": [],
            "text/html": [
              "<pre style=\"white-space:pre;overflow-x:auto;line-height:normal;font-family:Menlo,'DejaVu Sans Mono',consolas,'Courier New',monospace\"></pre>\n"
            ]
          },
          "metadata": {}
        },
        {
          "output_type": "stream",
          "name": "stderr",
          "text": [
            "2023-06-22 23:28:05,294 [servicefoundry] INFO     Deployment FQN: tfy-gcp-standard-usce1:abhi-gcp-ws:gradio:11\n",
            "2023-06-22 23:28:05,298 [servicefoundry] INFO     Application FQN: tfy-gcp-standard-usce1:abhi-gcp-ws:gradio\n",
            "2023-06-22 23:28:05,417 [servicefoundry] INFO     You can find the application on the dashboard:- 'https://app.devtest.truefoundry.tech/applications/clj7oxtvh08px1hgubp735gvc?tab=deployments'\n"
          ]
        },
        {
          "output_type": "execute_result",
          "data": {
            "text/plain": [
              "Deployment(createdAt=datetime.datetime(2023, 6, 22, 23, 27, 3, 428000, tzinfo=datetime.timezone.utc), updatedAt=datetime.datetime(2023, 6, 22, 23, 27, 3, 432000, tzinfo=datetime.timezone.utc), createdBy='aditya-j', id='clj7rw5j80alr1hgudn0nfnmv', fqn='tfy-gcp-standard-usce1:abhi-gcp-ws:gradio:11', version=11, currentStatusId='clj7rw5ja0als1hguf6whgsvb', applicationId='clj7oxtvh08px1hgubp735gvc', manifest=DeploymentManifest(name='gradio', type='service'), failureReason=None, deploymentStatuses=None, metadata=None, currentStatus=None)"
            ]
          },
          "metadata": {},
          "execution_count": 52
        }
      ],
      "source": [
        "import argparse\n",
        "import logging\n",
        "from servicefoundry import Build, PythonBuild, Service, Resources, Port\n",
        "\n",
        "logging.basicConfig(level=logging.INFO)\n",
        "\n",
        "service = Service(\n",
        "    name=\"gradio\",\n",
        "    image=Build(\n",
        "        build_spec=PythonBuild(\n",
        "            command=\"python main.py\",\n",
        "            requirements_path=\"requirements.txt\",\n",
        "        )\n",
        "    ),\n",
        "    ports=[\n",
        "        Port(\n",
        "            port=8080,\n",
        "            host=\"<Your configured host>\"\n",
        "        )\n",
        "    ],\n",
        "    resources=Resources(memory_limit=500, memory_request=500, ephemeral_storage_limit=600, ephemeral_storage_request=600, cpu_limit=0.3, cpu_request=0.3),\n",
        ")\n",
        "service.deploy(workspace_fqn=WORKSPACE)"
      ]
    }
  ],
  "metadata": {
    "colab": {
      "provenance": []
    },
    "kernelspec": {
      "display_name": "Python 3 (ipykernel)",
      "language": "python",
      "name": "python3"
    },
    "language_info": {
      "codemirror_mode": {
        "name": "ipython",
        "version": 3
      },
      "file_extension": ".py",
      "mimetype": "text/x-python",
      "name": "python",
      "nbconvert_exporter": "python",
      "pygments_lexer": "ipython3",
      "version": "3.8.13"
    },
    "widgets": {
      "application/vnd.jupyter.widget-state+json": {
        "28802487d04c417bbf40f486a42d54e4": {
          "model_module": "@jupyter-widgets/output",
          "model_name": "OutputModel",
          "model_module_version": "1.0.0",
          "state": {
            "_dom_classes": [],
            "_model_module": "@jupyter-widgets/output",
            "_model_module_version": "1.0.0",
            "_model_name": "OutputModel",
            "_view_count": null,
            "_view_module": "@jupyter-widgets/output",
            "_view_module_version": "1.0.0",
            "_view_name": "OutputView",
            "layout": "IPY_MODEL_e6b9a03a470845e995b2b7ac6afb41c6",
            "msg_id": "",
            "outputs": [
              {
                "output_type": "display_data",
                "data": {
                  "text/plain": "\u001b[32m⠸\u001b[0m Current state: WAITING\n",
                  "text/html": "<pre style=\"white-space:pre;overflow-x:auto;line-height:normal;font-family:Menlo,'DejaVu Sans Mono',consolas,'Courier New',monospace\"><span style=\"color: #008000; text-decoration-color: #008000\">⠸</span> Current state: WAITING\n</pre>\n"
                },
                "metadata": {}
              }
            ]
          }
        },
        "e6b9a03a470845e995b2b7ac6afb41c6": {
          "model_module": "@jupyter-widgets/base",
          "model_name": "LayoutModel",
          "model_module_version": "1.2.0",
          "state": {
            "_model_module": "@jupyter-widgets/base",
            "_model_module_version": "1.2.0",
            "_model_name": "LayoutModel",
            "_view_count": null,
            "_view_module": "@jupyter-widgets/base",
            "_view_module_version": "1.2.0",
            "_view_name": "LayoutView",
            "align_content": null,
            "align_items": null,
            "align_self": null,
            "border": null,
            "bottom": null,
            "display": null,
            "flex": null,
            "flex_flow": null,
            "grid_area": null,
            "grid_auto_columns": null,
            "grid_auto_flow": null,
            "grid_auto_rows": null,
            "grid_column": null,
            "grid_gap": null,
            "grid_row": null,
            "grid_template_areas": null,
            "grid_template_columns": null,
            "grid_template_rows": null,
            "height": null,
            "justify_content": null,
            "justify_items": null,
            "left": null,
            "margin": null,
            "max_height": null,
            "max_width": null,
            "min_height": null,
            "min_width": null,
            "object_fit": null,
            "object_position": null,
            "order": null,
            "overflow": null,
            "overflow_x": null,
            "overflow_y": null,
            "padding": null,
            "right": null,
            "top": null,
            "visibility": null,
            "width": null
          }
        }
      }
    }
  },
  "nbformat": 4,
  "nbformat_minor": 0
}