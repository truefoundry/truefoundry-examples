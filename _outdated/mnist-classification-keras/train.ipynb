{
  "cells": [
    {
      "cell_type": "markdown",
      "metadata": {
        "id": "QBRi8LlWSqw7"
      },
      "source": [
        "# MNIST Classification using Keras"
      ]
    },
    {
      "cell_type": "markdown",
      "metadata": {},
      "source": [
        "[![Open In Colab](https://colab.research.google.com/assets/colab-badge.svg)](https://colab.research.google.com/github/truefoundry/truefoundry-examples/blob/main/mnist-classification-keras/train.ipynb)"
      ]
    },
    {
      "cell_type": "markdown",
      "metadata": {
        "id": "HPx1Cf8kSjjY"
      },
      "source": [
        "### Install packages and import"
      ]
    },
    {
      "cell_type": "code",
      "execution_count": null,
      "metadata": {
        "colab": {
          "base_uri": "https://localhost:8080/",
          "height": 1000
        },
        "id": "VFBQAPdGpdQk",
        "outputId": "80a6d33f-a6c8-479a-c1ba-9d76d2f50aec"
      },
      "outputs": [],
      "source": [
        "%pip install -U \"mlfoundry>=0.3.33,<0.4.0\""
      ]
    },
    {
      "cell_type": "code",
      "execution_count": null,
      "metadata": {
        "id": "DPrYGkHspuWn"
      },
      "outputs": [],
      "source": [
        "import mlfoundry as mlf\n",
        "\n",
        "import numpy as np\n",
        "from tensorflow import keras\n",
        "from tensorflow.keras import layers\n",
        "from tensorflow.keras.callbacks import Callback\n"
      ]
    },
    {
      "cell_type": "markdown",
      "metadata": {
        "id": "j7naVYZZTWZA"
      },
      "source": [
        "### Initialize MLFoundry run"
      ]
    },
    {
      "cell_type": "code",
      "execution_count": null,
      "metadata": {
        "colab": {
          "base_uri": "https://localhost:8080/"
        },
        "id": "rhZJJK9wTjcm",
        "outputId": "4bbf25ca-6207-422a-aa7f-fcf69302da70"
      },
      "outputs": [],
      "source": [
        "from getpass import getpass\n",
        "api_token = getpass(\"TrueFoundry API Token (Get it from https://app.truefoundry.com/settings):\")"
      ]
    },
    {
      "cell_type": "code",
      "execution_count": null,
      "metadata": {
        "colab": {
          "base_uri": "https://localhost:8080/"
        },
        "id": "TZWnxuKpTYgC",
        "outputId": "2e545677-f74e-4fa5-cfb7-00fc946eebd5"
      },
      "outputs": [],
      "source": [
        "mlf_api = mlf.get_client(api_key=api_token)"
      ]
    },
    {
      "cell_type": "code",
      "execution_count": null,
      "metadata": {
        "colab": {
          "base_uri": "https://localhost:8080/"
        },
        "id": "VyMWoE42ZHkb",
        "outputId": "13b271d6-50a5-4b54-8d5c-f6c0343c9226"
      },
      "outputs": [],
      "source": [
        "run = mlf_api.create_run('mnist-keras')"
      ]
    },
    {
      "cell_type": "markdown",
      "metadata": {
        "id": "D4yKSIOWTEXz"
      },
      "source": [
        "### Split train and test data"
      ]
    },
    {
      "cell_type": "code",
      "execution_count": null,
      "metadata": {
        "id": "g-M1Eewipyzc"
      },
      "outputs": [],
      "source": [
        "# Model / data parameters\n",
        "num_classes = 10\n",
        "input_shape = (28, 28, 1)\n",
        "\n",
        "# the data, split between train and test sets\n",
        "(x_train, y_train), (x_test, y_test) = keras.datasets.mnist.load_data()\n",
        "\n",
        "# Scale images to the [0, 1] range\n",
        "x_train = x_train.astype(\"float32\") / 255\n",
        "x_test = x_test.astype(\"float32\") / 255\n",
        "# Make sure images have shape (28, 28, 1)\n",
        "x_train = np.expand_dims(x_train, -1)\n",
        "x_test = np.expand_dims(x_test, -1)\n",
        "\n",
        "# convert class vectors to binary class matrices\n",
        "y_train = keras.utils.to_categorical(y_train, num_classes)\n",
        "y_test = keras.utils.to_categorical(y_test, num_classes)"
      ]
    },
    {
      "cell_type": "markdown",
      "metadata": {
        "id": "fEvCvQ8uTJxd"
      },
      "source": [
        "### Define the model"
      ]
    },
    {
      "cell_type": "code",
      "execution_count": null,
      "metadata": {
        "colab": {
          "base_uri": "https://localhost:8080/"
        },
        "id": "dgmJx7Vpp2Km",
        "outputId": "1962d307-88fa-4d9c-dd7e-eb1c415e96da"
      },
      "outputs": [],
      "source": [
        "model = keras.Sequential(\n",
        "    [\n",
        "        keras.Input(shape=input_shape),\n",
        "        layers.Conv2D(32, kernel_size=(3, 3), activation=\"relu\"),\n",
        "        layers.MaxPooling2D(pool_size=(2, 2)),\n",
        "        layers.Conv2D(64, kernel_size=(3, 3), activation=\"relu\"),\n",
        "        layers.MaxPooling2D(pool_size=(2, 2)),\n",
        "        layers.Flatten(),\n",
        "        layers.Dropout(0.5),\n",
        "        layers.Dense(num_classes, activation=\"softmax\"),\n",
        "    ]\n",
        ")\n",
        "model.summary()"
      ]
    },
    {
      "cell_type": "markdown",
      "metadata": {
        "id": "2guG6jXJWSL1"
      },
      "source": [
        "### Define the callback to log metrics to MLFoundry"
      ]
    },
    {
      "cell_type": "code",
      "execution_count": null,
      "metadata": {
        "id": "IM841sSKWQdb"
      },
      "outputs": [],
      "source": [
        "class MetricsLogCallback(Callback):\n",
        "    def on_epoch_end(self, epoch, logs=None):\n",
        "        run.log_metrics(logs, epoch)  "
      ]
    },
    {
      "cell_type": "markdown",
      "metadata": {
        "id": "GIqbDqNUTQ-f"
      },
      "source": [
        "### Train the model"
      ]
    },
    {
      "cell_type": "code",
      "execution_count": null,
      "metadata": {
        "colab": {
          "base_uri": "https://localhost:8080/"
        },
        "id": "PaXuJ5k_p4Gp",
        "outputId": "24862918-08c5-476b-a9ca-f236be11cc9e"
      },
      "outputs": [],
      "source": [
        "BATCH_SIZE = 128\n",
        "EPOCHS = 5\n",
        "\n",
        "run.log_params({'batch_size': BATCH_SIZE, 'epochs': EPOCHS})\n",
        "\n",
        "model.compile(loss=\"categorical_crossentropy\", optimizer=\"adam\", metrics=[\"accuracy\"])\n",
        "model.fit(x_train, y_train, batch_size=BATCH_SIZE, epochs=EPOCHS, validation_split=0.1, callbacks=[MetricsLogCallback()])"
      ]
    },
    {
      "cell_type": "markdown",
      "metadata": {
        "id": "PoNkYCgDWxVk"
      },
      "source": [
        "### Log the model and end run"
      ]
    },
    {
      "cell_type": "code",
      "execution_count": null,
      "metadata": {
        "colab": {
          "base_uri": "https://localhost:8080/"
        },
        "id": "uWBw7cAVqjgM",
        "outputId": "0b2d7532-da59-4a33-a462-1c3e9cbc4f0b"
      },
      "outputs": [],
      "source": [
        "run.log_model(model, 'keras')\n",
        "run.end()\n",
        "print(run.run_id)"
      ]
    }
  ],
  "metadata": {
    "colab": {
      "collapsed_sections": [],
      "name": "Untitled0.ipynb",
      "provenance": []
    },
    "kernelspec": {
      "display_name": "Python 3",
      "name": "python3"
    },
    "language_info": {
      "name": "python"
    }
  },
  "nbformat": 4,
  "nbformat_minor": 0
}
