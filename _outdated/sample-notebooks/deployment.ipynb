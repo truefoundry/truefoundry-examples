{
  "cells": [
    {
      "cell_type": "markdown",
      "metadata": {},
      "source": [
        "[![Open In Colab](https://colab.research.google.com/assets/colab-badge.svg)](https://colab.research.google.com/github/truefoundry/truefoundry-examples/blob/main/sample-notebooks/deployment.ipynb)"
      ]
    },
    {
      "cell_type": "code",
      "execution_count": null,
      "metadata": {
        "id": "y6E-ak_xE57s"
      },
      "outputs": [],
      "source": [
        "!pip install -U --quiet servicefoundry"
      ]
    },
    {
      "cell_type": "code",
      "execution_count": null,
      "metadata": {
        "colab": {
          "base_uri": "https://localhost:8080/"
        },
        "id": "dwxTXK-EFAIk",
        "outputId": "d24b6b77-ec76-4147-b575-00ef15fcfddf"
      },
      "outputs": [],
      "source": [
        "import servicefoundry.core as sfy\n",
        "sfy.login()"
      ]
    },
    {
      "cell_type": "code",
      "execution_count": null,
      "metadata": {
        "colab": {
          "base_uri": "https://localhost:8080/"
        },
        "id": "jca6gpp2HtQj",
        "outputId": "6c482544-e491-418e-86dc-e39d0bdc5f5e"
      },
      "outputs": [],
      "source": [
        "WORKSPACE_FQN = input('Enter the FQN of your TrueFoundry workspace (https://app.truefoundry.com/workspace): ')"
      ]
    },
    {
      "cell_type": "code",
      "execution_count": null,
      "metadata": {
        "colab": {
          "base_uri": "https://localhost:8080/"
        },
        "id": "AsSTnVKNFFHf",
        "outputId": "d1a1a222-3b93-4bb5-e3b6-cb63ac6d8545"
      },
      "outputs": [],
      "source": [
        "%%writefile quick_math.py\n",
        "\n",
        "def sum(a: int, b: int, c: int, d: int):\n",
        "    return a + b + c + d\n",
        "\n",
        "def product(a: int, b: float):\n",
        "    return a * b"
      ]
    },
    {
      "cell_type": "code",
      "execution_count": null,
      "metadata": {
        "colab": {
          "base_uri": "https://localhost:8080/"
        },
        "id": "NYgUsXG4FIF7",
        "outputId": "497d8ad6-c6ac-4496-bdda-56ad30e044a0"
      },
      "outputs": [],
      "source": [
        "requirements = sfy.gather_requirements(\"quick_math.py\")\n",
        "print(requirements)"
      ]
    },
    {
      "cell_type": "code",
      "execution_count": null,
      "metadata": {
        "id": "gN1nKXjCFJ0A"
      },
      "outputs": [],
      "source": [
        "auto_service = sfy.Service(\"quick_math.py\", requirements, sfy.Parameters(\n",
        "    name=\"auto-service\",\n",
        "    workspace=WORKSPACE_FQN\n",
        "))"
      ]
    },
    {
      "cell_type": "code",
      "execution_count": null,
      "metadata": {
        "colab": {
          "base_uri": "https://localhost:8080/"
        },
        "id": "q4Tm7ngCFLi-",
        "outputId": "157e8c82-e785-4888-c89c-cddfe36ea131"
      },
      "outputs": [],
      "source": [
        "auto_service.deploy()"
      ]
    },
    {
      "cell_type": "code",
      "execution_count": null,
      "metadata": {
        "id": "ia5Uu9hiFLv4"
      },
      "outputs": [],
      "source": [
        "auto_webapp = sfy.Webapp(\"quick_math.py\", requirements, sfy.Parameters(\n",
        "    name=\"auto-webapp\",\n",
        "    workspace=WORKSPACE_FQN\n",
        "))"
      ]
    },
    {
      "cell_type": "code",
      "execution_count": null,
      "metadata": {
        "colab": {
          "base_uri": "https://localhost:8080/"
        },
        "id": "9RmGn_SZFOlv",
        "outputId": "c5fcc631-725a-4e55-cfba-b216f81c5514"
      },
      "outputs": [],
      "source": [
        "auto_webapp.deploy()"
      ]
    },
    {
      "cell_type": "code",
      "execution_count": null,
      "metadata": {
        "colab": {
          "base_uri": "https://localhost:8080/"
        },
        "id": "KsCw561NFZUK",
        "outputId": "a55b8ced-b157-4d56-9f6e-d9380495bb49"
      },
      "outputs": [],
      "source": [
        "!pip install -U --quiet gradio"
      ]
    },
    {
      "cell_type": "code",
      "execution_count": null,
      "metadata": {
        "colab": {
          "base_uri": "https://localhost:8080/"
        },
        "id": "IRDp6b3aFYy5",
        "outputId": "b9f7ebf5-de18-4e22-850b-339d1dc6dc03"
      },
      "outputs": [],
      "source": [
        "%%writefile hello.py\n",
        "\n",
        "import gradio as gr\n",
        "\n",
        "def greet(name):\n",
        "    return \"Hello \" + name + \"!\"\n",
        "\n",
        "app = gr.Interface(fn=greet, inputs=\"text\", outputs=\"text\")"
      ]
    },
    {
      "cell_type": "code",
      "execution_count": null,
      "metadata": {
        "colab": {
          "base_uri": "https://localhost:8080/"
        },
        "id": "rxG_A6rzGHGQ",
        "outputId": "595aa6e4-6e8a-482c-add7-5f398a1879bc"
      },
      "outputs": [],
      "source": [
        "gradio_requirements = sfy.gather_requirements(\"hello.py\")\n",
        "print(gradio_requirements)"
      ]
    },
    {
      "cell_type": "code",
      "execution_count": null,
      "metadata": {
        "id": "5xx5Owd3Fbx6"
      },
      "outputs": [],
      "source": [
        "auto_gradio = sfy.Gradio(\"hello.py\", gradio_requirements, sfy.Parameters(\n",
        "    name=\"auto-gradio\",\n",
        "    workspace=WORKSPACE_FQN\n",
        "))"
      ]
    },
    {
      "cell_type": "code",
      "execution_count": null,
      "metadata": {
        "colab": {
          "base_uri": "https://localhost:8080/"
        },
        "id": "e3V7m5AvFeOn",
        "outputId": "b847890c-7c0c-42b3-d129-269ee2dd3068"
      },
      "outputs": [],
      "source": [
        "auto_gradio.deploy()"
      ]
    }
  ],
  "metadata": {
    "colab": {
      "collapsed_sections": [],
      "name": "example.ipynb",
      "provenance": []
    },
    "kernelspec": {
      "display_name": "Python 3",
      "name": "python3"
    },
    "language_info": {
      "name": "python"
    }
  },
  "nbformat": 4,
  "nbformat_minor": 0
}
